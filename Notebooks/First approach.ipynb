{
 "cells": [
  {
   "cell_type": "code",
   "execution_count": 88,
   "metadata": {},
   "outputs": [],
   "source": [
    "import os\n",
    "import pandas as pd\n",
    "import numpy as np\n",
    "import networkx as nx\n",
    "import matplotlib.pyplot as plt\n",
    "import torch.nn as nn\n",
    "\n",
    "from sklearn.linear_model import Lasso\n",
    "from sklearn.model_selection import train_test_split\n",
    "from sklearn.metrics import mean_squared_error"
   ]
  },
  {
   "cell_type": "code",
   "execution_count": 87,
   "metadata": {},
   "outputs": [],
   "source": [
    "# Read the h-indices\n",
    "df = pd.read_csv('../Data/train.csv', dtype={'author': np.int64, 'hindex': np.float32})\n",
    "\n",
    "# Load the graph    \n",
    "G = nx.read_edgelist('../Data/coauthorship.edgelist', delimiter=' ', nodetype=int)\n",
    "core_num = nx.core_number(G)"
   ]
  },
  {
   "cell_type": "markdown",
   "metadata": {},
   "source": [
    "Let's take a quick look at the data"
   ]
  },
  {
   "cell_type": "code",
   "execution_count": 85,
   "metadata": {},
   "outputs": [
    {
     "name": "stdout",
     "output_type": "stream",
     "text": [
      "\n"
     ]
    },
    {
     "data": {
      "image/png": "[encoded data removed]",
      "text/plain": [
       "<Figure size 432x288 with 1 Axes>"
      ]
     },
     "metadata": {
      "needs_background": "light"
     },
     "output_type": "display_data"
    }
   ],
   "source": [
    "treshold = 0\n",
    "\n",
    "# Degree distribution\n",
    "l = []\n",
    "for node in G:\n",
    "    if G.degree(node) > treshold:\n",
    "        l.append(G.degree(node))\n",
    "\n",
    "plt.hist(l)\n",
    "plt.title(\"Distribution of the degrees of $G$ with a treshold at {}\".format(treshold))\n",
    "print()"
   ]
  },
  {
   "cell_type": "code",
   "execution_count": 86,
   "metadata": {},
   "outputs": [
    {
     "name": "stdout",
     "output_type": "stream",
     "text": [
      "\n"
     ]
    },
    {
     "data": {
      "image/png": "[encoded data removed]",
      "text/plain": [
       "<Figure size 432x288 with 1 Axes>"
      ]
     },
     "metadata": {
      "needs_background": "light"
     },
     "output_type": "display_data"
    }
   ],
   "source": [
    "treshold = 0\n",
    "\n",
    "# Distribution of h-indices\n",
    "hindex = df['hindex']\n",
    "plt.hist(hindex[hindex > treshold])\n",
    "plt.title(\"Distribution of $h$-indices with a treshold at {}\".format(treshold))\n",
    "print()"
   ]
  },
  {
   "cell_type": "markdown",
   "metadata": {},
   "source": [
    "# Learning\n",
    "\n",
    "Here we attempt to predict the $h$-indices based only on properties of the graph"
   ]
  },
  {
   "cell_type": "markdown",
   "metadata": {},
   "source": [
    "We split the dataframe into a dataframe for training and a dataframe for testing"
   ]
  },
  {
   "cell_type": "code",
   "execution_count": 121,
   "metadata": {},
   "outputs": [],
   "source": [
    "# Fraction of samples in the training set\n",
    "train_frac = 0.7\n",
    "# Split the dataframe into train and test dataframes\n",
    "df_train = df.sample(frac = train_frac)\n",
    "df_test = df.drop(df_train.index)"
   ]
  },
  {
   "cell_type": "markdown",
   "metadata": {},
   "source": [
    "### Baseline\n",
    "\n",
    "We try to reproduce the score of the baseline using only the training dataset (because we do not have the answers for the testing dataset)."
   ]
  },
  {
   "cell_type": "code",
   "execution_count": 122,
   "metadata": {},
   "outputs": [],
   "source": [
    "# Builds the feature vectors and target vector from the dataframe\n",
    "# Here we reproduce the features of the baseline\n",
    "def featvecs_baseline(df):\n",
    "    n = df.shape[0]\n",
    "    X = np.zeros((n,2))\n",
    "    y = np.zeros(n)\n",
    "    for i, x in zip(range(n), df.iterrows()):\n",
    "        _, row = x\n",
    "        X[i,0] = G.degree(row['author'])\n",
    "        X[i,1] = core_num[row['author']]\n",
    "        y[i] = row['hindex']\n",
    "    return X,y"
   ]
  },
  {
   "cell_type": "code",
   "execution_count": 123,
   "metadata": {},
   "outputs": [
    {
     "name": "stdout",
     "output_type": "stream",
     "text": [
      "Training features built\n",
      "Testing features built\n",
      "\n",
      "Model fitted\n",
      "\n",
      "MSE: 129.7\n"
     ]
    }
   ],
   "source": [
    "# Fitting a lasso model like in the baseline\n",
    "\n",
    "X_train, y_train = featvecs_baseline(df_train)\n",
    "print(\"Training features built\")\n",
    "\n",
    "X_test, y_test = featvecs_baseline(df_test)\n",
    "print(\"Testing features built\\n\")\n",
    "\n",
    "reg = Lasso(alpha = 0.1)\n",
    "reg.fit(X_train, y_train)\n",
    "print(\"Model fitted\\n\")\n",
    "\n",
    "y_pred = reg.predict(X_test)\n",
    "print(\"MSE: {:.4}\".format(mean_squared_error(y_pred, y_test)))"
   ]
  },
  {
   "cell_type": "markdown",
   "metadata": {},
   "source": [
    "### Experimental Area\n",
    "\n",
    "Here is for experimenting with different kinds of graph-based features."
   ]
  },
  {
   "cell_type": "markdown",
   "metadata": {},
   "source": [
    "Let's try to add different powers of the degrees. In particular, we expect a dependance with the square root of the degree."
   ]
  },
  {
   "cell_type": "code",
   "execution_count": 148,
   "metadata": {},
   "outputs": [],
   "source": [
    "# Builds the feature vectors and target vector from the dataframe\n",
    "\n",
    "def featvecs_experimental(df, powers):\n",
    "    n = df.shape[0]\n",
    "    X = np.zeros((n,len(powers)))\n",
    "    y = np.zeros(n)\n",
    "    for i, x in zip(range(n), df.iterrows()):\n",
    "        _, row = x\n",
    "        deg = G.degree(row['author'])\n",
    "        cn = core_num[row['author']]\n",
    "        for j, power in enumerate(powers):\n",
    "            X[i,j] = deg ** power\n",
    "            #X[i,j + len(powers)] = cn ** power\n",
    "        y[i] = row['hindex']\n",
    "    return X,y"
   ]
  },
  {
   "cell_type": "code",
   "execution_count": 163,
   "metadata": {},
   "outputs": [
    {
     "name": "stdout",
     "output_type": "stream",
     "text": [
      "20.00%\n",
      "40.00%\n",
      "60.00%\n",
      "80.00%\n",
      "100.00%\n"
     ]
    }
   ],
   "source": [
    "# Fitting a lasso model like in the baseline\n",
    "\n",
    "lp = np.linspace(0.1, 1, 5)\n",
    "lmse = []\n",
    "\n",
    "for i,p in enumerate(lp):\n",
    "    powers = [p]\n",
    "\n",
    "    X_train, y_train = featvecs_experimental(df_train, powers)\n",
    "    #print(\"Training features built\")\n",
    "\n",
    "    X_test, y_test = featvecs_experimental(df_test, powers)\n",
    "    #print(\"Testing features built\")\n",
    "\n",
    "    reg = Lasso(alpha = 0.1, max_iter = 1e5)\n",
    "    reg.fit(X_train, y_train)\n",
    "    #print(\"Model fitted\\n\")\n",
    "\n",
    "    y_pred = reg.predict(X_test)\n",
    "    lmse.append(mean_squared_error(y_pred, y_test))\n",
    "    #print(\"MSE: {:.4}\".format(mean_squared_error(y_pred, y_test)))\n",
    "    \n",
    "    print(\"{:.2%}\".format((i+1)/len(lp)))"
   ]
  },
  {
   "cell_type": "code",
   "execution_count": 164,
   "metadata": {},
   "outputs": [
    {
     "data": {
      "text/plain": [
       "[<matplotlib.lines.Line2D at 0x164637fc9a0>]"
      ]
     },
     "execution_count": 164,
     "metadata": {},
     "output_type": "execute_result"
    },
    {
     "data": {
      "image/png": "[encoded data removed]",
      "text/plain": [
       "<Figure size 432x288 with 1 Axes>"
      ]
     },
     "metadata": {
      "needs_background": "light"
     },
     "output_type": "display_data"
    }
   ],
   "source": [
    "plt.plot(lp, lmse)"
   ]
  },
  {
   "cell_type": "markdown",
   "metadata": {},
   "source": [
    "### Fitting the basic graph features with a neural network"
   ]
  },
  {
   "cell_type": "code",
   "execution_count": null,
   "metadata": {},
   "outputs": [],
   "source": [
    "model = nn.Sequential(nn.Linear(len(powers), 10), nn.ReLU(), nn.Linear(10, 1))"
   ]
  }
 ],
 "metadata": {
  "kernelspec": {
   "display_name": "Python 3",
   "language": "python",
   "name": "python3"
  },
  "language_info": {
   "codemirror_mode": {
    "name": "ipython",
    "version": 3
   },
   "file_extension": ".py",
   "mimetype": "text/x-python",
   "name": "python",
   "nbconvert_exporter": "python",
   "pygments_lexer": "ipython3",
   "version": "3.8.3"
  }
 },
 "nbformat": 4,
 "nbformat_minor": 4
}
