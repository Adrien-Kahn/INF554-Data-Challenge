{
 "cells": [
  {
   "cell_type": "code",
   "execution_count": 1,
   "metadata": {},
   "outputs": [],
   "source": [
    "import numpy as np\n",
    "import csv"
   ]
  },
  {
   "cell_type": "raw",
   "metadata": {},
   "source": [
    "#load the abstract.txt file\n",
    "with open('C:\\\\Users\\\\victo\\\\Documents\\\\Scolaire\\\\X2021-2022\\\\P1\\\\INF554\\\\Project\\\\inf554-2021\\\\abstracts.txt', encoding=\"utf-8\") as f:\n",
    "    lines = f.readlines()"
   ]
  },
  {
   "cell_type": "code",
   "execution_count": 2,
   "metadata": {},
   "outputs": [],
   "source": [
    "#lines"
   ]
  },
  {
   "cell_type": "raw",
   "metadata": {},
   "source": [
    "#create the abstract dictionnary\n",
    "dico = {} # long\n",
    "count = {}\n",
    "nb_lines = len(lines)\n",
    "\n",
    "print(\"Starting conversion step 1\")\n",
    "for i in range(nb_lines):\n",
    "    if i%10000 == 0:\n",
    "        print(str(int(i/nb_lines*100)) + \"%\")\n",
    "    l = lines[i].split(\"----\")\n",
    "    key = int(l[0])\n",
    "    count[key] = int(l[1].split(\"{\")[1].split(\":\")[1].split(\",\")[0])\n",
    "    l = l[1].split(\"{\")[2].replace('\\n','').replace('\"','').replace('[','').replace('}','').split(\"],\")\n",
    "    for i in range(len(l)):\n",
    "        e = l[i].split(\":\")\n",
    "        if len(e) > 1:\n",
    "            word, numbers = e[0], e[1]\n",
    "        l[i] = [word] + numbers.replace(' ', '').split(\",\")\n",
    "    dico[key] = l\n",
    "    \n",
    "    \n",
    "print(\"Starting conversion step 2\")\n",
    "nb_keys = len(dico.keys())\n",
    "for i_k, key in enumerate(dico.keys()):\n",
    "    if i_k%10000 == 0:\n",
    "        print(str(int(i_k/len(dico.keys())*100)) + \"%\")\n",
    "    for ie, e in enumerate(dico[key]):\n",
    "        b = False\n",
    "        for i in range(1,len(e)):\n",
    "            try:\n",
    "                e[i] = int(e[i])\n",
    "            except ValueError:\n",
    "                b = True\n",
    "        if b:\n",
    "            dico[key].pop(ie)\n",
    "            \n",
    "            \n",
    "print(\"Starting conversion step 3\")\n",
    "for i_k, key in enumerate(dico.keys()):\n",
    "    if i_k%10000 == 0:\n",
    "        print(str(int(i_k/len(dico.keys())*100)) + \"%\")\n",
    "    array = np.zeros(count[key], dtype=object)\n",
    "    for ie, e in enumerate(dico[key]):\n",
    "        b = False\n",
    "        for i in range(1,len(e)):\n",
    "            try:\n",
    "                if int(e[i]) < count[key]:\n",
    "                    array[int(e[i])] = e[0]\n",
    "                else:\n",
    "                    b = True\n",
    "            except ValueError:\n",
    "                b = True\n",
    "        if b:\n",
    "            dico[key].pop(ie)\n",
    "    text = \"\"\n",
    "    for word in array:\n",
    "        if word != 0:\n",
    "            text += word + \" \"\n",
    "    dico[key] = text\n",
    "    \n",
    "print(\"Conversion Finished\")"
   ]
  },
  {
   "cell_type": "raw",
   "metadata": {},
   "source": [
    "#save the abstract dictionnary into a CSV file\n",
    "with open('C:\\\\Users\\\\victo\\\\Documents\\\\Scolaire\\\\X2021-2022\\\\P1\\\\INF554\\\\Project\\\\inf554-2021\\\\abstracts.csv', 'w', encoding='utf-8') as f:\n",
    "    for key in dico.keys():\n",
    "        f.write('%s,\"%s\"\\n'%(key,dico[key]))"
   ]
  },
  {
   "cell_type": "code",
   "execution_count": 81,
   "metadata": {},
   "outputs": [],
   "source": [
    "#load the abstract dictionnary from a CSV file\n",
    "dico = {}\n",
    "with open('C:\\\\Users\\\\victo\\\\Documents\\\\Scolaire\\\\X2021-2022\\\\P1\\\\INF554\\\\Project\\\\inf554-2021\\\\abstracts.csv', encoding='utf-8') as f:\n",
    "    for row in csv.reader(f):\n",
    "        dico[int(row[0])] = row[1]"
   ]
  },
  {
   "cell_type": "code",
   "execution_count": 89,
   "metadata": {},
   "outputs": [],
   "source": [
    "#d2"
   ]
  },
  {
   "cell_type": "code",
   "execution_count": 90,
   "metadata": {},
   "outputs": [],
   "source": [
    "#dico"
   ]
  },
  {
   "cell_type": "code",
   "execution_count": 5,
   "metadata": {},
   "outputs": [
    {
     "data": {
      "text/plain": [
       "'hindex'"
      ]
     },
     "execution_count": 5,
     "metadata": {},
     "output_type": "execute_result"
    }
   ],
   "source": [
    "#load the train hindexes from a CSV file\n",
    "d1 = {}\n",
    "with open('C:\\\\Users\\\\victo\\\\Documents\\\\Scolaire\\\\X2021-2022\\\\P1\\\\INF554\\\\Project\\\\inf554-2021\\\\train.csv') as csvfile:\n",
    "    for row in csv.reader(csvfile):\n",
    "        d1[row[0]] = row[1]\n",
    "d1.pop(\"author\")"
   ]
  },
  {
   "cell_type": "code",
   "execution_count": 91,
   "metadata": {},
   "outputs": [],
   "source": [
    "#d1"
   ]
  },
  {
   "cell_type": "code",
   "execution_count": 7,
   "metadata": {},
   "outputs": [],
   "source": [
    "#load the author_paper from a text file\n",
    "d2 = {}\n",
    "with open('C:\\\\Users\\\\victo\\\\Documents\\\\Scolaire\\\\X2021-2022\\\\P1\\\\INF554\\\\Project\\\\inf554-2021\\\\author_papers.txt', encoding=\"utf-8\") as f2:\n",
    "    for line in f2.readlines():\n",
    "        L = [int(e) for e in line.split(\":\")[1].split(\"-\")]\n",
    "        d2[line.split(\":\")[0]] = L"
   ]
  },
  {
   "cell_type": "code",
   "execution_count": 92,
   "metadata": {},
   "outputs": [],
   "source": [
    "#one chemistry paper\n",
    "#dico[1998829420]"
   ]
  },
  {
   "cell_type": "code",
   "execution_count": 93,
   "metadata": {},
   "outputs": [],
   "source": [
    "#create the dictionnary that will become the feature nb_articles\n",
    "d3 = {}\n",
    "for key in d2.keys():\n",
    "    d3[key] = len(d2[key])"
   ]
  },
  {
   "cell_type": "code",
   "execution_count": 94,
   "metadata": {},
   "outputs": [],
   "source": [
    "#d3"
   ]
  },
  {
   "cell_type": "markdown",
   "metadata": {},
   "source": [
    "#to check that the hindex is always lower than the amount of articles written (we it doesn't exceed 5)\n",
    "true = 0\n",
    "false = 0\n",
    "for key in d1.keys():\n",
    "    if d3[key] < 5 and float(d1[key]) > d3[key]:\n",
    "        true += 1\n",
    "    else:\n",
    "        false += 1\n",
    "        \n",
    "print((true,false))        "
   ]
  },
  {
   "cell_type": "raw",
   "metadata": {},
   "source": [
    "#save the nb_articles feature into a CSV file\n",
    "with open('C:\\\\Users\\\\victo\\\\Documents\\\\Scolaire\\\\X2021-2022\\\\P1\\\\INF554\\\\Project\\\\inf554-2021\\\\nb_articles.csv', 'w', encoding='utf-8') as f:\n",
    "    for key in d3.keys():\n",
    "        f.write('%s,\"%s\"\\n'%(key,d3[key]))"
   ]
  },
  {
   "cell_type": "raw",
   "metadata": {},
   "source": [
    "#load the IATE database from a CSV file with delimiter = \"|\"\n",
    "L = []\n",
    "with open('C:\\\\Users\\\\victo\\\\Documents\\\\Scolaire\\\\X2021-2022\\\\P1\\\\INF554\\\\Project\\\\inf554-2021\\\\IATE_export.csv', encoding='ISO-8859-1') as csvfile2:\n",
    "    for row in csv.reader(csvfile2, delimiter = \"|\", ):\n",
    "        if \"eliable\" in row[5] and row[4] == \"Term\" and \"data\" in row[1]:\n",
    "            L.append(row[3])"
   ]
  },
  {
   "cell_type": "code",
   "execution_count": 96,
   "metadata": {},
   "outputs": [],
   "source": [
    "#load the IATE database from a CSV file with standard commas delimiter\n",
    "L = []\n",
    "with open('C:\\\\Users\\\\victo\\\\Documents\\\\Scolaire\\\\X2021-2022\\\\P1\\\\INF554\\\\Project\\\\inf554-2021\\\\IATE_commas.csv', encoding='ISO-8859-1') as csvfile2:\n",
    "    for row in csv.reader(csvfile2):\n",
    "        if \"eliable\" in row[5] and row[4] == \"Term\" and \"data\" in row[1]:\n",
    "            L.append(row[3])"
   ]
  },
  {
   "cell_type": "code",
   "execution_count": 97,
   "metadata": {},
   "outputs": [],
   "source": [
    "#len(L)"
   ]
  },
  {
   "cell_type": "raw",
   "metadata": {},
   "source": [
    "#an example of the scientific words from an abstract\n",
    "total = []\n",
    "for e in L:\n",
    "    if e in dico[3603]:\n",
    "        total.append(e)\n",
    "\n",
    "print(total)"
   ]
  },
  {
   "cell_type": "raw",
   "metadata": {},
   "source": [
    "#create the dictionnary for the scientific words of each abstract\n",
    "scientific = {}\n",
    "for i_k, key in enumerate(dico.keys()):\n",
    "    if i_k%10000 == 0:\n",
    "        print(str(int(i_k/len(dico.keys())*100)) + \"%\")\n",
    "    total = []\n",
    "    for e in L:\n",
    "        if e in dico[key]:\n",
    "            total.append(e)\n",
    "    scientific[key] = total"
   ]
  },
  {
   "cell_type": "raw",
   "metadata": {},
   "source": [
    "#save the dictionnary for the scientific words of each abstract\n",
    "with open('C:\\\\Users\\\\victo\\\\Documents\\\\Scolaire\\\\X2021-2022\\\\P1\\\\INF554\\\\Project\\\\inf554-2021\\\\scientific.csv', 'w', encoding='utf-8') as f:\n",
    "    for key in scientific.keys():\n",
    "        f.write('%s,\"%s\"\\n'%(key,scientific[key]))"
   ]
  },
  {
   "cell_type": "code",
   "execution_count": 98,
   "metadata": {},
   "outputs": [],
   "source": [
    "#load the dictionnary for the scientific words of each abstract\n",
    "scientific = {}\n",
    "with open('C:\\\\Users\\\\victo\\\\Documents\\\\Scolaire\\\\X2021-2022\\\\P1\\\\INF554\\\\Project\\\\inf554-2021\\\\scientific.csv', encoding='utf-8') as f:\n",
    "    for row in csv.reader(f):\n",
    "        scientific[int(row[0])] = [e for e in row[1].replace(\"[\",\"\").replace(\"]\",\"\").replace(\"'\",\"\").replace(\" \",\"\").split(\",\")]"
   ]
  },
  {
   "cell_type": "code",
   "execution_count": 99,
   "metadata": {},
   "outputs": [],
   "source": [
    "#scientific"
   ]
  },
  {
   "cell_type": "code",
   "execution_count": 100,
   "metadata": {},
   "outputs": [
    {
     "name": "stdout",
     "output_type": "stream",
     "text": [
      "0%\n",
      "4%\n",
      "9%\n",
      "13%\n",
      "18%\n",
      "22%\n",
      "27%\n",
      "32%\n",
      "36%\n",
      "41%\n",
      "45%\n",
      "50%\n",
      "55%\n",
      "59%\n",
      "64%\n",
      "68%\n",
      "73%\n",
      "78%\n",
      "82%\n",
      "87%\n",
      "91%\n",
      "96%\n"
     ]
    }
   ],
   "source": [
    "#create the dictionnary for the scientific words of each author\n",
    "words_used = {}\n",
    "for i_k, author in enumerate(d2.keys()):\n",
    "    if i_k%10000 == 0:\n",
    "        print(str(int(i_k/len(d2.keys())*100)) + \"%\")\n",
    "    words_used[author] = []\n",
    "    for paper in d2[author]:\n",
    "        if paper in scientific.keys():\n",
    "            words_used[author] = words_used[author] + scientific[paper]"
   ]
  },
  {
   "cell_type": "code",
   "execution_count": 101,
   "metadata": {},
   "outputs": [],
   "source": [
    "#save as a feature the number of scientific words used by each author\n",
    "with open('C:\\\\Users\\\\victo\\\\Documents\\\\Scolaire\\\\X2021-2022\\\\P1\\\\INF554\\\\Project\\\\inf554-2021\\\\score.csv', 'w', encoding='utf-8') as f:\n",
    "    for key in words_used.keys():\n",
    "        f.write('%s,\"%s\"\\n'%(key,len(words_used[key])))"
   ]
  },
  {
   "cell_type": "raw",
   "metadata": {},
   "source": [
    "#checking d1.keys() included in d2.keys()\n",
    "true = 0\n",
    "false = 0\n",
    "for key in d1.keys():\n",
    "    true += key in d2.keys()\n",
    "    false += 1 - (key in d2.keys())\n",
    "print((true, false))"
   ]
  },
  {
   "cell_type": "code",
   "execution_count": 103,
   "metadata": {},
   "outputs": [
    {
     "name": "stdout",
     "output_type": "stream",
     "text": [
      "0%\n",
      "5%\n",
      "11%\n",
      "17%\n",
      "22%\n",
      "28%\n",
      "34%\n",
      "40%\n",
      "45%\n",
      "51%\n",
      "57%\n",
      "63%\n",
      "68%\n",
      "74%\n",
      "80%\n",
      "86%\n",
      "91%\n",
      "97%\n"
     ]
    }
   ],
   "source": [
    "#score each word as the average hindex of the authors that used this word\n",
    "words_score = {}\n",
    "for i_k, author in enumerate(d1.keys()):\n",
    "    if i_k%10000 == 0:\n",
    "        print(str(int(i_k/len(d1.keys())*100)) + \"%\")\n",
    "    hscore = float(d1[author])\n",
    "    for word in words_used[author]:\n",
    "        if word not in words_score.keys():\n",
    "            words_score[word] = [hscore]\n",
    "        else:\n",
    "            words_score[word].append(hscore)\n",
    "# max or avg\n",
    "for word in words_score.keys():\n",
    "    if len(words_score[word]) > 0:\n",
    "        words_score[word] = sum(words_score[word])/len(words_score[word])"
   ]
  },
  {
   "cell_type": "code",
   "execution_count": 104,
   "metadata": {},
   "outputs": [],
   "source": [
    "#words_score"
   ]
  },
  {
   "cell_type": "code",
   "execution_count": 105,
   "metadata": {},
   "outputs": [
    {
     "name": "stdout",
     "output_type": "stream",
     "text": [
      "0%\n",
      "4%\n",
      "9%\n",
      "13%\n",
      "18%\n",
      "22%\n",
      "27%\n",
      "32%\n",
      "36%\n",
      "41%\n",
      "45%\n",
      "50%\n",
      "55%\n",
      "59%\n",
      "64%\n",
      "68%\n",
      "73%\n",
      "78%\n",
      "82%\n",
      "87%\n",
      "91%\n",
      "96%\n"
     ]
    }
   ],
   "source": [
    "#score an author as the maximum score of the words he used\n",
    "author_best = {}\n",
    "for i_k, author in enumerate(d2.keys()):\n",
    "    if i_k%10000 == 0:\n",
    "        print(str(int(i_k/len(d2.keys())*100)) + \"%\")\n",
    "    author_best[author] = []\n",
    "    for paper in d2[author]:\n",
    "        if paper in scientific.keys():\n",
    "            for word in scientific[paper]:\n",
    "                if word in words_score.keys():\n",
    "                    author_best[author].append(words_score[word])\n",
    "# max or avg\n",
    "for author in author_best.keys():\n",
    "    if len(author_best[author]) > 0:\n",
    "        author_best[author] = max(author_best[author]) #sum(author_best[author])/len(author_best[author])\n",
    "    else:\n",
    "        author_best[author] = 0"
   ]
  },
  {
   "cell_type": "code",
   "execution_count": 106,
   "metadata": {},
   "outputs": [],
   "source": [
    "#author_best"
   ]
  },
  {
   "cell_type": "raw",
   "metadata": {},
   "source": [
    "#save the author's best word feature\n",
    "with open('C:\\\\Users\\\\victo\\\\Documents\\\\Scolaire\\\\X2021-2022\\\\P1\\\\INF554\\\\Project\\\\inf554-2021\\\\author_best.csv', 'w', encoding='utf-8') as f:\n",
    "    for key in author_best.keys():\n",
    "        f.write('%s,\"%s\"\\n'%(key,author_best[key]))"
   ]
  },
  {
   "cell_type": "code",
   "execution_count": null,
   "metadata": {},
   "outputs": [],
   "source": []
  }
 ],
 "metadata": {
  "kernelspec": {
   "display_name": "Python 3",
   "language": "python",
   "name": "python3"
  },
  "language_info": {
   "codemirror_mode": {
    "name": "ipython",
    "version": 3
   },
   "file_extension": ".py",
   "mimetype": "text/x-python",
   "name": "python",
   "nbconvert_exporter": "python",
   "pygments_lexer": "ipython3",
   "version": "3.8.5"
  }
 },
 "nbformat": 4,
 "nbformat_minor": 4
}
