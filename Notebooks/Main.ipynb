{
 "cells": [
  {
   "cell_type": "code",
   "execution_count": 1,
   "metadata": {},
   "outputs": [],
   "source": [
    "import os\n",
    "import pandas as pd\n",
    "import numpy as np\n",
    "import networkx as nx\n",
    "import matplotlib.pyplot as plt\n",
    "import torch\n",
    "import torch.nn as nn\n",
    "import csv\n",
    "\n",
    "from gensim.models import Word2Vec\n",
    "\n",
    "from sklearn.linear_model import Lasso\n",
    "from sklearn.model_selection import train_test_split\n",
    "from sklearn.metrics import mean_squared_error\n",
    "from sklearn.preprocessing import StandardScaler\n",
    "from time import time"
   ]
  },
  {
   "cell_type": "code",
   "execution_count": 2,
   "metadata": {},
   "outputs": [],
   "source": [
    "# Read the h-indices\n",
    "df = pd.read_csv('../Data/train.csv', dtype={'author': np.int64, 'hindex': np.float32})\n",
    "\n",
    "# Load the graph\n",
    "G = nx.read_edgelist('../Data/coauthorship.edgelist', delimiter=' ', nodetype=int)"
   ]
  },
  {
   "cell_type": "code",
   "execution_count": 3,
   "metadata": {},
   "outputs": [],
   "source": [
    "subnodes = [k for i,k in enumerate(G) if i < 20000]\n",
    "subG = G.subgraph(subnodes)\n",
    "#nx.write_edgelist(subG, '../Data/50000_coauthorship_tab.edgelist', delimiter='\\t', data = False)"
   ]
  },
  {
   "cell_type": "code",
   "execution_count": 4,
   "metadata": {},
   "outputs": [
    {
     "name": "stdout",
     "output_type": "stream",
     "text": [
      "Core number done\n",
      "Average neighbor degree done\n",
      "Eigenvector centrality done\n",
      "Pagerank done\n"
     ]
    }
   ],
   "source": [
    "# Computes some graph properties\n",
    "core_num = nx.core_number(G)\n",
    "print(\"Core number done\")\n",
    "average_neighbor_deg = nx.average_neighbor_degree(G)\n",
    "print(\"Average neighbor degree done\")\n",
    "eigenvector_cen = nx.eigenvector_centrality(G)\n",
    "print(\"Eigenvector centrality done\")\n",
    "page_rank = nx.pagerank(G)\n",
    "print(\"Pagerank done\")"
   ]
  },
  {
   "cell_type": "code",
   "execution_count": 6,
   "metadata": {},
   "outputs": [],
   "source": [
    "# Loads basic text features\n",
    "\n",
    "best_word = {}\n",
    "with open('../Data/author_best.csv', encoding='utf-8') as f:\n",
    "    for row in csv.reader(f):\n",
    "        best_word[int(row[0])] = float(row[1])\n",
    "\n",
    "sci_words = {}\n",
    "with open('../Data/score.csv', encoding='utf-8') as f:\n",
    "    for row in csv.reader(f):\n",
    "        sci_words[int(row[0])] = float(row[1])\n",
    "\n",
    "nb_papers = {}\n",
    "with open('../Data/nb_articles.csv', encoding='utf-8') as f:\n",
    "    for row in csv.reader(f):\n",
    "        nb_papers[int(row[0])] = float(row[1])\n",
    "        \n",
    "ex_ratio = {}\n",
    "with open('../Data/ex_ratio.csv', encoding='utf-8') as f:\n",
    "    for row in csv.reader(f):\n",
    "        ex_ratio[int(row[0])] = float(row[1])\n",
    "        \n",
    "ex_num = {}\n",
    "with open('../Data/ex_num.csv', encoding='utf-8') as f:\n",
    "    for row in csv.reader(f):\n",
    "        ex_num[int(row[0])] = float(row[1])"
   ]
  },
  {
   "cell_type": "markdown",
   "metadata": {},
   "source": [
    "Let's take a quick look at the data"
   ]
  },
  {
   "cell_type": "code",
   "execution_count": 7,
   "metadata": {},
   "outputs": [
    {
     "name": "stdout",
     "output_type": "stream",
     "text": [
      "\n"
     ]
    },
    {
     "data": {
      "image/png": "[encoded data removed]",
      "text/plain": [
       "<Figure size 432x288 with 1 Axes>"
      ]
     },
     "metadata": {
      "needs_background": "light"
     },
     "output_type": "display_data"
    }
   ],
   "source": [
    "treshold = 0\n",
    "\n",
    "# Degree distribution\n",
    "l = []\n",
    "for node in G:\n",
    "    if G.degree(node) > treshold:\n",
    "        l.append(G.degree(node))\n",
    "\n",
    "plt.hist(l)\n",
    "plt.title(\"Distribution of the degrees of $G$ with a treshold at {}\".format(treshold))\n",
    "print()"
   ]
  },
  {
   "cell_type": "code",
   "execution_count": 8,
   "metadata": {},
   "outputs": [
    {
     "name": "stdout",
     "output_type": "stream",
     "text": [
      "\n"
     ]
    },
    {
     "data": {
      "image/png": "[encoded data removed]",
      "text/plain": [
       "<Figure size 432x288 with 1 Axes>"
      ]
     },
     "metadata": {
      "needs_background": "light"
     },
     "output_type": "display_data"
    }
   ],
   "source": [
    "treshold = 0\n",
    "\n",
    "# Distribution of h-indices\n",
    "hindex = df['hindex']\n",
    "plt.hist(hindex[hindex > treshold], bins = 40)\n",
    "plt.title(\"Distribution of $h$-indices with a treshold at {}\".format(treshold))\n",
    "print()"
   ]
  },
  {
   "cell_type": "markdown",
   "metadata": {},
   "source": [
    "# Learning\n",
    "\n",
    "Here we attempt to predict the $h$-indices based only on properties of the graph"
   ]
  },
  {
   "cell_type": "markdown",
   "metadata": {},
   "source": [
    "We split the dataframe into a dataframe for training and a dataframe for testing"
   ]
  },
  {
   "cell_type": "code",
   "execution_count": 9,
   "metadata": {},
   "outputs": [],
   "source": [
    "# Fraction of samples in the training set\n",
    "train_frac = 0.7\n",
    "# Split the dataframe into train and test dataframes\n",
    "df_train = df.sample(frac = train_frac)\n",
    "df_test = df.drop(df_train.index)"
   ]
  },
  {
   "cell_type": "markdown",
   "metadata": {},
   "source": [
    "### Baseline\n",
    "\n",
    "We try to reproduce the score of the baseline using only the training dataset (because we do not have the answers for the testing dataset)."
   ]
  },
  {
   "cell_type": "code",
   "execution_count": 10,
   "metadata": {},
   "outputs": [],
   "source": [
    "# Builds the feature vectors and target vector from the dataframe\n",
    "# Here we reproduce the features of the baseline\n",
    "def featvecs_baseline(df):\n",
    "    n = df.shape[0]\n",
    "    X = np.zeros((n,2))\n",
    "    y = np.zeros(n)\n",
    "    for i, x in zip(range(n), df.iterrows()):\n",
    "        _, row = x\n",
    "        X[i,0] = G.degree(row['author'])\n",
    "        X[i,1] = core_num[row['author']]\n",
    "        y[i] = row['hindex']\n",
    "    return X,y"
   ]
  },
  {
   "cell_type": "code",
   "execution_count": 11,
   "metadata": {},
   "outputs": [
    {
     "name": "stdout",
     "output_type": "stream",
     "text": [
      "Training features built\n",
      "Testing features built\n",
      "\n",
      "Model fitted\n",
      "\n",
      "MSE: 128.6\n"
     ]
    }
   ],
   "source": [
    "# Fitting a lasso model like in the baseline\n",
    "\n",
    "X_train, y_train = featvecs_baseline(df_train)\n",
    "print(\"Training features built\")\n",
    "\n",
    "X_test, y_test = featvecs_baseline(df_test)\n",
    "print(\"Testing features built\\n\")\n",
    "\n",
    "reg = Lasso(alpha = 0.1)\n",
    "reg.fit(X_train, y_train)\n",
    "print(\"Model fitted\\n\")\n",
    "\n",
    "y_pred = reg.predict(X_test)\n",
    "print(\"MSE: {:.4}\".format(mean_squared_error(y_pred, y_test)))"
   ]
  },
  {
   "cell_type": "markdown",
   "metadata": {},
   "source": [
    "# Fitting the basic graph features with a lasso\n",
    "\n",
    "We use different graph node features as input for a lasso."
   ]
  },
  {
   "cell_type": "code",
   "execution_count": null,
   "metadata": {},
   "outputs": [],
   "source": [
    "# Builds the feature vectors and target vector from the dataframe\n",
    "\n",
    "n_feat = 5\n",
    "\n",
    "def featvecs(df):\n",
    "    \n",
    "    n = df.shape[0]\n",
    "    X = np.zeros((n, n_feat))\n",
    "    y = np.zeros((n, 1))\n",
    "    \n",
    "    for i, x in enumerate(df.iterrows()):\n",
    "        \n",
    "        _, row = x\n",
    "        node = row['author']\n",
    "        \n",
    "        X[i, 0] = G.degree(node) ** 0.2\n",
    "        X[i, 1] = core_num[node]\n",
    "        X[i, 2] = average_neighbor_deg[node]\n",
    "        X[i, 3] = eigenvector_cen[node]\n",
    "        X[i, 4] = page_rank[node]\n",
    "        \n",
    "        y[i] = row['hindex']\n",
    "    \n",
    "    return X,y"
   ]
  },
  {
   "cell_type": "code",
   "execution_count": null,
   "metadata": {},
   "outputs": [],
   "source": [
    "# Fitting a lasso model\n",
    "\n",
    "X_train, y_train = featvecs(df_train)\n",
    "print(\"Training features built\")\n",
    "\n",
    "X_test, y_test = featvecs(df_test)\n",
    "print(\"Testing features built\")\n",
    "\n",
    "reg = Lasso(alpha = 0.1, max_iter = 1e5)\n",
    "reg.fit(X_train, y_train)\n",
    "print(\"Model fitted\\n\")\n",
    "\n",
    "y_pred = reg.predict(X_test)\n",
    "print(\"MSE: {:.4}\".format(mean_squared_error(y_pred, y_test)))"
   ]
  },
  {
   "cell_type": "markdown",
   "metadata": {},
   "source": [
    "##### Feature normalization\n",
    "\n",
    "One big problem here is that the features are on very different orders of magnitude. Normalizing the features does not significantly improve the performance of the model, but help compare features the lasso coefficients."
   ]
  },
  {
   "cell_type": "code",
   "execution_count": 11,
   "metadata": {},
   "outputs": [],
   "source": [
    "# Builds the feature vectors and target vector from the dataframe\n",
    "\n",
    "def featvecs_experimental(df, powers):\n",
    "    n = df.shape[0]\n",
    "    X = np.zeros((n,len(powers)))\n",
    "    y = np.zeros(n)\n",
    "    for i, x in enumerate(df.iterrows()):\n",
    "        _, row = x\n",
    "        deg = G.degree(row['author'])\n",
    "        cn = core_num[row['author']]\n",
    "        for j, power in enumerate(powers):\n",
    "            X[i,j] = deg ** power\n",
    "            #X[i,j + len(powers)] = cn ** power\n",
    "        y[i] = row['hindex']\n",
    "    return X,y"
   ]
  },
  {
   "cell_type": "code",
   "execution_count": 12,
   "metadata": {},
   "outputs": [
    {
     "ename": "NameError",
     "evalue": "name 'featvecs_nn' is not defined",
     "output_type": "error",
     "traceback": [
      "\u001b[1;31m---------------------------------------------------------------------------\u001b[0m",
      "\u001b[1;31mNameError\u001b[0m                                 Traceback (most recent call last)",
      "\u001b[1;32m<ipython-input-12-161caa78cbae>\u001b[0m in \u001b[0;36m<module>\u001b[1;34m\u001b[0m\n\u001b[0;32m      1\u001b[0m \u001b[1;31m# Fitting a lasso model like in the baseline\u001b[0m\u001b[1;33m\u001b[0m\u001b[1;33m\u001b[0m\u001b[1;33m\u001b[0m\u001b[0m\n\u001b[0;32m      2\u001b[0m \u001b[1;33m\u001b[0m\u001b[0m\n\u001b[1;32m----> 3\u001b[1;33m \u001b[0mX_train\u001b[0m\u001b[1;33m,\u001b[0m \u001b[0my_train\u001b[0m \u001b[1;33m=\u001b[0m \u001b[0mfeatvecs_nn\u001b[0m\u001b[1;33m(\u001b[0m\u001b[0mdf_train\u001b[0m\u001b[1;33m)\u001b[0m\u001b[1;33m\u001b[0m\u001b[1;33m\u001b[0m\u001b[0m\n\u001b[0m\u001b[0;32m      4\u001b[0m \u001b[0mprint\u001b[0m\u001b[1;33m(\u001b[0m\u001b[1;34m\"Training features built\"\u001b[0m\u001b[1;33m)\u001b[0m\u001b[1;33m\u001b[0m\u001b[1;33m\u001b[0m\u001b[0m\n\u001b[0;32m      5\u001b[0m \u001b[1;33m\u001b[0m\u001b[0m\n",
      "\u001b[1;31mNameError\u001b[0m: name 'featvecs_nn' is not defined"
     ]
    }
   ],
   "source": [
    "# Fitting a lasso model like in the baseline\n",
    "\n",
    "X_train, y_train = featvecs_nn(df_train)\n",
    "print(\"Training features built\")\n",
    "\n",
    "X_test, y_test = featvecs_nn(df_test)\n",
    "print(\"Testing features built\")\n",
    "\n",
    "reg = Lasso(alpha = 0.1, max_iter = 1e5)\n",
    "reg.fit(X_train, y_train)\n",
    "print(\"Model fitted\\n\")\n",
    "\n",
    "y_pred = reg.predict(X_test)\n",
    "print(\"MSE: {:.4}\".format(mean_squared_error(y_pred, y_test)))"
   ]
  },
  {
   "cell_type": "code",
   "execution_count": 13,
   "metadata": {},
   "outputs": [],
   "source": [
    "# Normalizing features (assumes that X_train is much larger than X_test)\n",
    "scaler = StandardScaler().fit(X_train)\n",
    "X_train = scaler.transform(X_train)\n",
    "X_test = scaler.transform(X_test)"
   ]
  },
  {
   "cell_type": "code",
   "execution_count": 14,
   "metadata": {
    "scrolled": true
   },
   "outputs": [
    {
     "name": "stdout",
     "output_type": "stream",
     "text": [
      "Model fitted\n",
      "\n",
      "MSE: 127.1\n"
     ]
    }
   ],
   "source": [
    "# Training the lasso model\n",
    "reg = Lasso(alpha = 0.1, max_iter = 1e5)\n",
    "reg.fit(X_train, y_train)\n",
    "print(\"Model fitted\\n\")\n",
    "\n",
    "# Evaluating the model\n",
    "y_pred = reg.predict(X_test)\n",
    "print(\"MSE: {:.4}\".format(mean_squared_error(y_pred, y_test)))"
   ]
  },
  {
   "cell_type": "markdown",
   "metadata": {},
   "source": [
    "##### Taking into account the distribution of $h$-indices\n",
    "\n",
    "If we take a look at the distribution of the $h$-indices in the predicted vector, we see that it is very far from the distribution in the target vector of both the train and test data. In fact, there is a significant share of the samples of the training data that have an $h$-index smaller than the smallest predicted h-index."
   ]
  },
  {
   "cell_type": "code",
   "execution_count": 15,
   "metadata": {},
   "outputs": [
    {
     "name": "stdout",
     "output_type": "stream",
     "text": [
      "Smallest predicted h-index: 8.92\n",
      "Percentage of h-indices in the training set below the smallest predicted value: 63.98%\n"
     ]
    }
   ],
   "source": [
    "print(\"Smallest predicted h-index: {:.3}\".format(min(y_pred)))\n",
    "print(\"Percentage of h-indices in the training set below the smallest predicted value: {:.2%}\".format(len(y_train[y_train < min(y_pred)]) / len(y_train)))"
   ]
  },
  {
   "cell_type": "code",
   "execution_count": 16,
   "metadata": {},
   "outputs": [
    {
     "name": "stdout",
     "output_type": "stream",
     "text": [
      "\n"
     ]
    },
    {
     "data": {
      "image/png": "[encoded data removed]",
      "text/plain": [
       "<Figure size 1440x360 with 3 Axes>"
      ]
     },
     "metadata": {
      "needs_background": "light"
     },
     "output_type": "display_data"
    }
   ],
   "source": [
    "fig, ax = plt.subplots(nrows=1, ncols=3, figsize=(20,5))\n",
    "\n",
    "ax[0].hist(y_pred, bins = 30)\n",
    "ax[0].set_title(\"Distribution of the predicted $h$-indices\")\n",
    "ax[1].hist(y_train, bins = 30)\n",
    "ax[1].set_title(\"Distribution of the train $h$-indices\")\n",
    "ax[2].hist(y_test, bins = 30)\n",
    "ax[2].set_title(\"Distribution of the test $h$-indices\")\n",
    "print()"
   ]
  },
  {
   "cell_type": "markdown",
   "metadata": {},
   "source": [
    "What we can do to fix that is create the mapping that takes the distribution of the prediction on the training set onto the distribution of the traget of the training set, and apply it to the prediction on the testing set."
   ]
  },
  {
   "cell_type": "code",
   "execution_count": 17,
   "metadata": {},
   "outputs": [],
   "source": [
    "a = np.array([2,9,8,7,1])\n",
    "idxl = np.argsort(a)\n",
    "\n",
    "# get the list of indices in the sorted list\n",
    "# This list is such that idx[i] is the index of a[i] in the sorted list\n",
    "idx = np.zeros(5)\n",
    "for i,ii in enumerate(idxl):\n",
    "    idx[ii] = i"
   ]
  },
  {
   "cell_type": "code",
   "execution_count": 18,
   "metadata": {},
   "outputs": [
    {
     "name": "stdout",
     "output_type": "stream",
     "text": [
      "Model fitted\n",
      "\n",
      "MSE on train: 130.9\n",
      "MSE on train: 142.1\n"
     ]
    }
   ],
   "source": [
    "# Training the lasso model\n",
    "reg = Lasso(alpha = 0.1, max_iter = 1e5)\n",
    "reg.fit(X_train, y_train)\n",
    "print(\"Model fitted\\n\")\n",
    "\n",
    "train_pred = reg.predict(X_train)\n",
    "\n",
    "idxx = np.argsort(train_pred)\n",
    "# This list is such that idx[i] is the index of a[i] in the sorted list\n",
    "idx = np.zeros(len(idxx), dtype = int)\n",
    "for i,ii in enumerate(idxx):\n",
    "    idx[ii] = int(i)\n",
    "\n",
    "sorted_y_train = np.sort(y_train)\n",
    "\n",
    "train_pred_2 = sorted_y_train[idx]\n",
    "\n",
    "# Evaluating the model on the train set\n",
    "print(\"MSE on train: {:.4}\".format(mean_squared_error(train_pred, y_train)))\n",
    "print(\"MSE on train: {:.4}\".format(mean_squared_error(train_pred_2, y_train)))"
   ]
  },
  {
   "cell_type": "code",
   "execution_count": 19,
   "metadata": {},
   "outputs": [
    {
     "data": {
      "text/plain": [
       "array([  8960,  26107,  37711,  46012,  65140,  73731, 101587, 116992],\n",
       "      dtype=int64)"
      ]
     },
     "execution_count": 19,
     "metadata": {},
     "output_type": "execute_result"
    }
   ],
   "source": [
    "np.intersect1d(np.where(train_pred > 50)[0], np.where(y_train > 100)[0])"
   ]
  },
  {
   "cell_type": "markdown",
   "metadata": {},
   "source": [
    "### Graph features for a neural network"
   ]
  },
  {
   "cell_type": "code",
   "execution_count": 20,
   "metadata": {},
   "outputs": [
    {
     "ename": "NameError",
     "evalue": "name 'featvecs_node2vec' is not defined",
     "output_type": "error",
     "traceback": [
      "\u001b[1;31m---------------------------------------------------------------------------\u001b[0m",
      "\u001b[1;31mNameError\u001b[0m                                 Traceback (most recent call last)",
      "\u001b[1;32m<ipython-input-20-a4ab1866664e>\u001b[0m in \u001b[0;36m<module>\u001b[1;34m\u001b[0m\n\u001b[0;32m      1\u001b[0m \u001b[1;31m# Builds the feature vectors\u001b[0m\u001b[1;33m\u001b[0m\u001b[1;33m\u001b[0m\u001b[1;33m\u001b[0m\u001b[0m\n\u001b[0;32m      2\u001b[0m \u001b[1;33m\u001b[0m\u001b[0m\n\u001b[1;32m----> 3\u001b[1;33m \u001b[0mX_train\u001b[0m\u001b[1;33m,\u001b[0m \u001b[0my_train\u001b[0m \u001b[1;33m=\u001b[0m \u001b[0mfeatvecs_node2vec\u001b[0m\u001b[1;33m(\u001b[0m\u001b[0mdf_train\u001b[0m\u001b[1;33m)\u001b[0m\u001b[1;33m\u001b[0m\u001b[1;33m\u001b[0m\u001b[0m\n\u001b[0m\u001b[0;32m      4\u001b[0m \u001b[0mX_train\u001b[0m \u001b[1;33m=\u001b[0m \u001b[0mtorch\u001b[0m\u001b[1;33m.\u001b[0m\u001b[0mfrom_numpy\u001b[0m\u001b[1;33m(\u001b[0m\u001b[0mX_train\u001b[0m\u001b[1;33m)\u001b[0m\u001b[1;33m.\u001b[0m\u001b[0mfloat\u001b[0m\u001b[1;33m(\u001b[0m\u001b[1;33m)\u001b[0m\u001b[1;33m\u001b[0m\u001b[1;33m\u001b[0m\u001b[0m\n\u001b[0;32m      5\u001b[0m \u001b[0my_train\u001b[0m \u001b[1;33m=\u001b[0m \u001b[0mtorch\u001b[0m\u001b[1;33m.\u001b[0m\u001b[0mfrom_numpy\u001b[0m\u001b[1;33m(\u001b[0m\u001b[0my_train\u001b[0m\u001b[1;33m)\u001b[0m\u001b[1;33m.\u001b[0m\u001b[0mfloat\u001b[0m\u001b[1;33m(\u001b[0m\u001b[1;33m)\u001b[0m\u001b[1;33m\u001b[0m\u001b[1;33m\u001b[0m\u001b[0m\n",
      "\u001b[1;31mNameError\u001b[0m: name 'featvecs_node2vec' is not defined"
     ]
    }
   ],
   "source": [
    "# Builds the feature vectors\n",
    "\n",
    "X_train, y_train = featvecs_node2vec(df_train)\n",
    "X_train = torch.from_numpy(X_train).float()\n",
    "y_train = torch.from_numpy(y_train).float()\n",
    "print(\"Training features built\")\n",
    "\n",
    "# Normalize X_train\n",
    "#X_train = nn.functional.normalize(X_train, dim = 0)\n",
    "\n",
    "X_test, y_test = featvecs_node2vec(df_test)\n",
    "X_test = torch.from_numpy(X_test).float()\n",
    "y_test = torch.from_numpy(y_test).float()\n",
    "print(\"Testing features built\")\n",
    "\n",
    "# Normalize X_test\n",
    "#X_test = nn.functional.normalize(X_test, dim = 0)"
   ]
  },
  {
   "cell_type": "code",
   "execution_count": 21,
   "metadata": {},
   "outputs": [
    {
     "ename": "NameError",
     "evalue": "name 'n_feat' is not defined",
     "output_type": "error",
     "traceback": [
      "\u001b[1;31m---------------------------------------------------------------------------\u001b[0m",
      "\u001b[1;31mNameError\u001b[0m                                 Traceback (most recent call last)",
      "\u001b[1;32m<ipython-input-21-a6e233012a9b>\u001b[0m in \u001b[0;36m<module>\u001b[1;34m\u001b[0m\n\u001b[1;32m----> 1\u001b[1;33m \u001b[0mmodel\u001b[0m \u001b[1;33m=\u001b[0m \u001b[0mnn\u001b[0m\u001b[1;33m.\u001b[0m\u001b[0mSequential\u001b[0m\u001b[1;33m(\u001b[0m\u001b[0mnn\u001b[0m\u001b[1;33m.\u001b[0m\u001b[0mLinear\u001b[0m\u001b[1;33m(\u001b[0m\u001b[0mn_feat\u001b[0m\u001b[1;33m,\u001b[0m \u001b[1;36m40\u001b[0m\u001b[1;33m)\u001b[0m\u001b[1;33m,\u001b[0m \u001b[0mnn\u001b[0m\u001b[1;33m.\u001b[0m\u001b[0mTanh\u001b[0m\u001b[1;33m(\u001b[0m\u001b[1;33m)\u001b[0m\u001b[1;33m,\u001b[0m \u001b[0mnn\u001b[0m\u001b[1;33m.\u001b[0m\u001b[0mLinear\u001b[0m\u001b[1;33m(\u001b[0m\u001b[1;36m40\u001b[0m\u001b[1;33m,\u001b[0m \u001b[1;36m1\u001b[0m\u001b[1;33m)\u001b[0m\u001b[1;33m)\u001b[0m\u001b[1;33m\u001b[0m\u001b[1;33m\u001b[0m\u001b[0m\n\u001b[0m\u001b[0;32m      2\u001b[0m \u001b[1;33m\u001b[0m\u001b[0m\n\u001b[0;32m      3\u001b[0m \u001b[0mloss_function\u001b[0m \u001b[1;33m=\u001b[0m \u001b[0mnn\u001b[0m\u001b[1;33m.\u001b[0m\u001b[0mMSELoss\u001b[0m\u001b[1;33m(\u001b[0m\u001b[1;33m)\u001b[0m\u001b[1;33m\u001b[0m\u001b[1;33m\u001b[0m\u001b[0m\n\u001b[0;32m      4\u001b[0m \u001b[0mother_loss\u001b[0m \u001b[1;33m=\u001b[0m \u001b[0mnn\u001b[0m\u001b[1;33m.\u001b[0m\u001b[0mMSELoss\u001b[0m\u001b[1;33m(\u001b[0m\u001b[1;33m)\u001b[0m\u001b[1;33m\u001b[0m\u001b[1;33m\u001b[0m\u001b[0m\n\u001b[0;32m      5\u001b[0m \u001b[0moptimizer\u001b[0m \u001b[1;33m=\u001b[0m \u001b[0mtorch\u001b[0m\u001b[1;33m.\u001b[0m\u001b[0moptim\u001b[0m\u001b[1;33m.\u001b[0m\u001b[0mSGD\u001b[0m\u001b[1;33m(\u001b[0m\u001b[0mmodel\u001b[0m\u001b[1;33m.\u001b[0m\u001b[0mparameters\u001b[0m\u001b[1;33m(\u001b[0m\u001b[1;33m)\u001b[0m\u001b[1;33m,\u001b[0m \u001b[0mlr\u001b[0m \u001b[1;33m=\u001b[0m \u001b[1;36m0.001\u001b[0m\u001b[1;33m)\u001b[0m\u001b[1;33m\u001b[0m\u001b[1;33m\u001b[0m\u001b[0m\n",
      "\u001b[1;31mNameError\u001b[0m: name 'n_feat' is not defined"
     ]
    }
   ],
   "source": [
    "model = nn.Sequential(nn.Linear(n_feat, 40), nn.Tanh(), nn.Linear(40, 1))\n",
    "\n",
    "loss_function = nn.MSELoss()\n",
    "other_loss = nn.MSELoss()\n",
    "optimizer = torch.optim.SGD(model.parameters(), lr = 0.001)\n",
    "\n",
    "train_losses = []\n",
    "test_losses = []\n",
    "\n",
    "for epoch in range(500):\n",
    "    \n",
    "    # Update test loss\n",
    "    output_test = model(X_test)\n",
    "    test_losses.append(other_loss(output_test, y_test).item())\n",
    "    \n",
    "    # Optimization step\n",
    "    output = model.forward(X_train)\n",
    "    loss = loss_function(output, y_train)\n",
    "    optimizer.zero_grad() #required since pytorch accumulates the gradients\n",
    "    loss.backward() #backpropagation step\n",
    "    optimizer.step() #update the parameters\n",
    "    \n",
    "    # Update train loss\n",
    "    train_losses.append(loss.item())\n",
    "    \n",
    "fig, ax = plt.subplots(figsize = (8,6))\n",
    "ax.plot(train_losses, label = 'train')\n",
    "ax.plot(test_losses, label = 'test')\n",
    "ax.set_title(\"Training Loss\")\n",
    "ax.set_xlabel(\"Iterations\")\n",
    "plt.legend()\n",
    "plt.show()\n",
    "\n",
    "print(\"{:.4}\".format(min(train_losses)))"
   ]
  },
  {
   "cell_type": "markdown",
   "metadata": {},
   "source": [
    "# Using the node2vec embedding as graph features\n",
    "\n",
    "Here we try to use the node2vec embedding of nodes as a node feature for a lasso model."
   ]
  },
  {
   "cell_type": "code",
   "execution_count": 22,
   "metadata": {},
   "outputs": [],
   "source": [
    "model = Word2Vec.load(\"../Word2Vec_models/model2.model\")\n",
    "n_dim = len(model.wv[str(2336566022)])\n",
    "embedding = np.zeros((G.number_of_nodes(), n_dim))\n",
    "for idx, node in enumerate(G.nodes()):\n",
    "    embedding[idx, :] = model.wv[str(node)]"
   ]
  },
  {
   "cell_type": "code",
   "execution_count": 23,
   "metadata": {},
   "outputs": [],
   "source": [
    "for key in nb_papers.keys():\n",
    "    if nb_papers[key] == 5:\n",
    "        nb_papers[key] = 12.36894318 #mean"
   ]
  },
  {
   "cell_type": "code",
   "execution_count": 24,
   "metadata": {},
   "outputs": [],
   "source": [
    "# Builds the feature vectors and target vector from the dataframe\n",
    "\n",
    "other_feat = 8\n",
    "n_feat = other_feat + n_dim\n",
    "\n",
    "def featvecs_node2vec(df, get_y = True):\n",
    "    \n",
    "    n = df.shape[0]\n",
    "    X = np.zeros((n, n_feat))\n",
    "    y = np.zeros((n, 1))\n",
    "    \n",
    "    idx = list(G.nodes())\n",
    "    rev_idx = {idx[i]: i for i in range(len(idx))}\n",
    "    \n",
    "    for i, x in enumerate(df.iterrows()):\n",
    "        \n",
    "        _, row = x\n",
    "        node = row['author']\n",
    "        \n",
    "        # Standard node features\n",
    "        X[i, 0] = G.degree(node) ** 0.2\n",
    "        X[i, 1] = core_num[node]\n",
    "        X[i, 2] = average_neighbor_deg[node]\n",
    "        X[i, 3] = eigenvector_cen[node]\n",
    "        X[i, 4] = page_rank[node]\n",
    "        X[i, 5] = best_word[node]\n",
    "        X[i, 6] = sci_words[node]\n",
    "        X[i, 7] = nb_papers[node]\n",
    "        X[i, 8] = ex_ratio[node]\n",
    "        X[i, 9] = ex_num[node]\n",
    "        \n",
    "        # Node2Vec features\n",
    "        X[i, other_feat:] = embedding[rev_idx[node], :]\n",
    "        \n",
    "        if get_y:\n",
    "            y[i] = row['hindex']\n",
    "    if get_y:\n",
    "        return X,y\n",
    "    return X"
   ]
  },
  {
   "cell_type": "code",
   "execution_count": 25,
   "metadata": {},
   "outputs": [
    {
     "name": "stdout",
     "output_type": "stream",
     "text": [
      "Training features built\n",
      "Testing features built\n",
      "Model fitted\n",
      "\n",
      "MSE: 93.18\n"
     ]
    }
   ],
   "source": [
    "# Building train features\n",
    "X_train, y_train = featvecs_node2vec(df_train)\n",
    "print(\"Training features built\")\n",
    "\n",
    "# Building test features\n",
    "X_test, y_test = featvecs_node2vec(df_test)\n",
    "print(\"Testing features built\")\n",
    "\n",
    "oldX = X_test[:,7].copy()\n",
    "\n",
    "# We do not normalize the node2vec embedding\n",
    "scaler = StandardScaler().fit(X_train[:,:-n_dim])\n",
    "X_train[:,:-n_dim] = scaler.transform(X_train[:,:-n_dim])\n",
    "X_test[:,:-n_dim] = scaler.transform(X_test[:,:-n_dim])\n",
    "\n",
    "# The lasso model\n",
    "reg = Lasso(alpha = 0.1, max_iter = 1e5)\n",
    "reg.fit(X_train, y_train)\n",
    "print(\"Model fitted\\n\")\n",
    "\n",
    "# Evaluating the model\n",
    "y_pred = reg.predict(X_test)\n",
    "print(\"MSE: {:.4}\".format(mean_squared_error(y_pred, y_test)))"
   ]
  },
  {
   "cell_type": "markdown",
   "metadata": {},
   "source": [
    "### Hard limit"
   ]
  },
  {
   "cell_type": "code",
   "execution_count": 26,
   "metadata": {},
   "outputs": [
    {
     "name": "stdout",
     "output_type": "stream",
     "text": [
      "MSE: 92.01\n"
     ]
    }
   ],
   "source": [
    "for i in range(len(y_pred)):\n",
    "    if oldX[i] < 5 and y_pred[i] > oldX[i]:\n",
    "        #print((y_pred[i],X_test[i, 7]))\n",
    "        y_pred[i] = oldX[i]\n",
    "print(\"MSE: {:.4}\".format(mean_squared_error(y_pred, y_test)))"
   ]
  },
  {
   "cell_type": "markdown",
   "metadata": {},
   "source": [
    "### Final submission"
   ]
  },
  {
   "cell_type": "code",
   "execution_count": 27,
   "metadata": {},
   "outputs": [
    {
     "name": "stdout",
     "output_type": "stream",
     "text": [
      "Training features built\n",
      "Testing features built\n"
     ]
    }
   ],
   "source": [
    "# Building train features\n",
    "X_train, y_train = featvecs_node2vec(df)\n",
    "print(\"Training features built\")\n",
    "\n",
    "# Read the h-indices\n",
    "df2 = pd.read_csv('../Data/test.csv', dtype={'author': np.int64, 'hindex': np.float32})\n",
    "\n",
    "# Building test features\n",
    "X_pred = featvecs_node2vec(df2, False)\n",
    "print(\"Testing features built\")\n",
    "\n",
    "oldX = X_test[:,7].copy()"
   ]
  },
  {
   "cell_type": "code",
   "execution_count": 28,
   "metadata": {},
   "outputs": [
    {
     "name": "stdout",
     "output_type": "stream",
     "text": [
      "Model fitted\n",
      "\n"
     ]
    }
   ],
   "source": [
    "# We do not normalize the node2vec embedding\n",
    "scaler = StandardScaler().fit(X_train[:,:-n_dim])\n",
    "X_train[:,:-n_dim] = scaler.transform(X_train[:,:-n_dim])\n",
    "X_test[:,:-n_dim] = scaler.transform(X_test[:,:-n_dim])\n",
    "\n",
    "# The lasso model\n",
    "reg = Lasso(alpha = 0.1, max_iter = 1e5)\n",
    "reg.fit(X_train, y_train)\n",
    "print(\"Model fitted\\n\")\n",
    "\n",
    "#Make the predictions\n",
    "y_pred = reg.predict(X_test)"
   ]
  },
  {
   "cell_type": "code",
   "execution_count": 29,
   "metadata": {},
   "outputs": [],
   "source": [
    "#Implement the hard limit\n",
    "for i in range(len(y_pred)):\n",
    "    if oldX[i] < 5 and y_pred[i] > oldX[i]:\n",
    "        #print((y_pred[i],X_test[i, 7]))\n",
    "        y_pred[i] = oldX[i]\n",
    "    if y_pred[i] < 1:\n",
    "        y_pred[i] = 1"
   ]
  },
  {
   "cell_type": "code",
   "execution_count": 30,
   "metadata": {},
   "outputs": [
    {
     "data": {
      "text/plain": [
       "array([1., 1., 1., ..., 1., 1., 1.])"
      ]
     },
     "execution_count": 30,
     "metadata": {},
     "output_type": "execute_result"
    }
   ],
   "source": [
    "y_pred"
   ]
  },
  {
   "cell_type": "code",
   "execution_count": 31,
   "metadata": {},
   "outputs": [
    {
     "ename": "KeyError",
     "evalue": "43560",
     "output_type": "error",
     "traceback": [
      "\u001b[1;31m---------------------------------------------------------------------------\u001b[0m",
      "\u001b[1;31mValueError\u001b[0m                                Traceback (most recent call last)",
      "\u001b[1;32m~\\anaconda3\\lib\\site-packages\\pandas\\core\\indexes\\range.py\u001b[0m in \u001b[0;36mget_loc\u001b[1;34m(self, key, method, tolerance)\u001b[0m\n\u001b[0;32m    354\u001b[0m                 \u001b[1;32mtry\u001b[0m\u001b[1;33m:\u001b[0m\u001b[1;33m\u001b[0m\u001b[1;33m\u001b[0m\u001b[0m\n\u001b[1;32m--> 355\u001b[1;33m                     \u001b[1;32mreturn\u001b[0m \u001b[0mself\u001b[0m\u001b[1;33m.\u001b[0m\u001b[0m_range\u001b[0m\u001b[1;33m.\u001b[0m\u001b[0mindex\u001b[0m\u001b[1;33m(\u001b[0m\u001b[0mnew_key\u001b[0m\u001b[1;33m)\u001b[0m\u001b[1;33m\u001b[0m\u001b[1;33m\u001b[0m\u001b[0m\n\u001b[0m\u001b[0;32m    356\u001b[0m                 \u001b[1;32mexcept\u001b[0m \u001b[0mValueError\u001b[0m \u001b[1;32mas\u001b[0m \u001b[0merr\u001b[0m\u001b[1;33m:\u001b[0m\u001b[1;33m\u001b[0m\u001b[1;33m\u001b[0m\u001b[0m\n",
      "\u001b[1;31mValueError\u001b[0m: 43560 is not in range",
      "\nThe above exception was the direct cause of the following exception:\n",
      "\u001b[1;31mKeyError\u001b[0m                                  Traceback (most recent call last)",
      "\u001b[1;32m<ipython-input-31-d22bb9188113>\u001b[0m in \u001b[0;36m<module>\u001b[1;34m\u001b[0m\n\u001b[0;32m      2\u001b[0m     \u001b[0mf\u001b[0m\u001b[1;33m.\u001b[0m\u001b[0mwrite\u001b[0m\u001b[1;33m(\u001b[0m\u001b[1;34m'author,\"hindex\"\\n'\u001b[0m\u001b[1;33m)\u001b[0m\u001b[1;33m\u001b[0m\u001b[1;33m\u001b[0m\u001b[0m\n\u001b[0;32m      3\u001b[0m     \u001b[1;32mfor\u001b[0m \u001b[0mi\u001b[0m \u001b[1;32min\u001b[0m \u001b[0mrange\u001b[0m\u001b[1;33m(\u001b[0m\u001b[0mlen\u001b[0m\u001b[1;33m(\u001b[0m\u001b[0my_pred\u001b[0m\u001b[1;33m)\u001b[0m\u001b[1;33m)\u001b[0m\u001b[1;33m:\u001b[0m\u001b[1;33m\u001b[0m\u001b[1;33m\u001b[0m\u001b[0m\n\u001b[1;32m----> 4\u001b[1;33m         \u001b[0mf\u001b[0m\u001b[1;33m.\u001b[0m\u001b[0mwrite\u001b[0m\u001b[1;33m(\u001b[0m\u001b[1;34m'%s,\"%s\"\\n'\u001b[0m\u001b[1;33m%\u001b[0m\u001b[1;33m(\u001b[0m\u001b[0mdf2\u001b[0m\u001b[1;33m[\u001b[0m\u001b[1;34m'author'\u001b[0m\u001b[1;33m]\u001b[0m\u001b[1;33m[\u001b[0m\u001b[0mi\u001b[0m\u001b[1;33m]\u001b[0m\u001b[1;33m,\u001b[0m\u001b[0my_pred\u001b[0m\u001b[1;33m[\u001b[0m\u001b[0mi\u001b[0m\u001b[1;33m]\u001b[0m\u001b[1;33m)\u001b[0m\u001b[1;33m)\u001b[0m\u001b[1;33m\u001b[0m\u001b[1;33m\u001b[0m\u001b[0m\n\u001b[0m",
      "\u001b[1;32m~\\anaconda3\\lib\\site-packages\\pandas\\core\\series.py\u001b[0m in \u001b[0;36m__getitem__\u001b[1;34m(self, key)\u001b[0m\n\u001b[0;32m    880\u001b[0m \u001b[1;33m\u001b[0m\u001b[0m\n\u001b[0;32m    881\u001b[0m         \u001b[1;32melif\u001b[0m \u001b[0mkey_is_scalar\u001b[0m\u001b[1;33m:\u001b[0m\u001b[1;33m\u001b[0m\u001b[1;33m\u001b[0m\u001b[0m\n\u001b[1;32m--> 882\u001b[1;33m             \u001b[1;32mreturn\u001b[0m \u001b[0mself\u001b[0m\u001b[1;33m.\u001b[0m\u001b[0m_get_value\u001b[0m\u001b[1;33m(\u001b[0m\u001b[0mkey\u001b[0m\u001b[1;33m)\u001b[0m\u001b[1;33m\u001b[0m\u001b[1;33m\u001b[0m\u001b[0m\n\u001b[0m\u001b[0;32m    883\u001b[0m \u001b[1;33m\u001b[0m\u001b[0m\n\u001b[0;32m    884\u001b[0m         \u001b[1;32mif\u001b[0m \u001b[0mis_hashable\u001b[0m\u001b[1;33m(\u001b[0m\u001b[0mkey\u001b[0m\u001b[1;33m)\u001b[0m\u001b[1;33m:\u001b[0m\u001b[1;33m\u001b[0m\u001b[1;33m\u001b[0m\u001b[0m\n",
      "\u001b[1;32m~\\anaconda3\\lib\\site-packages\\pandas\\core\\series.py\u001b[0m in \u001b[0;36m_get_value\u001b[1;34m(self, label, takeable)\u001b[0m\n\u001b[0;32m    987\u001b[0m \u001b[1;33m\u001b[0m\u001b[0m\n\u001b[0;32m    988\u001b[0m         \u001b[1;31m# Similar to Index.get_value, but we do not fall back to positional\u001b[0m\u001b[1;33m\u001b[0m\u001b[1;33m\u001b[0m\u001b[1;33m\u001b[0m\u001b[0m\n\u001b[1;32m--> 989\u001b[1;33m         \u001b[0mloc\u001b[0m \u001b[1;33m=\u001b[0m \u001b[0mself\u001b[0m\u001b[1;33m.\u001b[0m\u001b[0mindex\u001b[0m\u001b[1;33m.\u001b[0m\u001b[0mget_loc\u001b[0m\u001b[1;33m(\u001b[0m\u001b[0mlabel\u001b[0m\u001b[1;33m)\u001b[0m\u001b[1;33m\u001b[0m\u001b[1;33m\u001b[0m\u001b[0m\n\u001b[0m\u001b[0;32m    990\u001b[0m         \u001b[1;32mreturn\u001b[0m \u001b[0mself\u001b[0m\u001b[1;33m.\u001b[0m\u001b[0mindex\u001b[0m\u001b[1;33m.\u001b[0m\u001b[0m_get_values_for_loc\u001b[0m\u001b[1;33m(\u001b[0m\u001b[0mself\u001b[0m\u001b[1;33m,\u001b[0m \u001b[0mloc\u001b[0m\u001b[1;33m,\u001b[0m \u001b[0mlabel\u001b[0m\u001b[1;33m)\u001b[0m\u001b[1;33m\u001b[0m\u001b[1;33m\u001b[0m\u001b[0m\n\u001b[0;32m    991\u001b[0m \u001b[1;33m\u001b[0m\u001b[0m\n",
      "\u001b[1;32m~\\anaconda3\\lib\\site-packages\\pandas\\core\\indexes\\range.py\u001b[0m in \u001b[0;36mget_loc\u001b[1;34m(self, key, method, tolerance)\u001b[0m\n\u001b[0;32m    355\u001b[0m                     \u001b[1;32mreturn\u001b[0m \u001b[0mself\u001b[0m\u001b[1;33m.\u001b[0m\u001b[0m_range\u001b[0m\u001b[1;33m.\u001b[0m\u001b[0mindex\u001b[0m\u001b[1;33m(\u001b[0m\u001b[0mnew_key\u001b[0m\u001b[1;33m)\u001b[0m\u001b[1;33m\u001b[0m\u001b[1;33m\u001b[0m\u001b[0m\n\u001b[0;32m    356\u001b[0m                 \u001b[1;32mexcept\u001b[0m \u001b[0mValueError\u001b[0m \u001b[1;32mas\u001b[0m \u001b[0merr\u001b[0m\u001b[1;33m:\u001b[0m\u001b[1;33m\u001b[0m\u001b[1;33m\u001b[0m\u001b[0m\n\u001b[1;32m--> 357\u001b[1;33m                     \u001b[1;32mraise\u001b[0m \u001b[0mKeyError\u001b[0m\u001b[1;33m(\u001b[0m\u001b[0mkey\u001b[0m\u001b[1;33m)\u001b[0m \u001b[1;32mfrom\u001b[0m \u001b[0merr\u001b[0m\u001b[1;33m\u001b[0m\u001b[1;33m\u001b[0m\u001b[0m\n\u001b[0m\u001b[0;32m    358\u001b[0m             \u001b[1;32mraise\u001b[0m \u001b[0mKeyError\u001b[0m\u001b[1;33m(\u001b[0m\u001b[0mkey\u001b[0m\u001b[1;33m)\u001b[0m\u001b[1;33m\u001b[0m\u001b[1;33m\u001b[0m\u001b[0m\n\u001b[0;32m    359\u001b[0m         \u001b[1;32mreturn\u001b[0m \u001b[0msuper\u001b[0m\u001b[1;33m(\u001b[0m\u001b[1;33m)\u001b[0m\u001b[1;33m.\u001b[0m\u001b[0mget_loc\u001b[0m\u001b[1;33m(\u001b[0m\u001b[0mkey\u001b[0m\u001b[1;33m,\u001b[0m \u001b[0mmethod\u001b[0m\u001b[1;33m=\u001b[0m\u001b[0mmethod\u001b[0m\u001b[1;33m,\u001b[0m \u001b[0mtolerance\u001b[0m\u001b[1;33m=\u001b[0m\u001b[0mtolerance\u001b[0m\u001b[1;33m)\u001b[0m\u001b[1;33m\u001b[0m\u001b[1;33m\u001b[0m\u001b[0m\n",
      "\u001b[1;31mKeyError\u001b[0m: 43560"
     ]
    }
   ],
   "source": [
    "with open('../Data/submission2.csv', 'w', encoding='utf-8') as f:\n",
    "    f.write('author,\"hindex\"\\n')\n",
    "    for i in range(len(y_pred)):\n",
    "        f.write('%s,\"%s\"\\n'%(df2['author'][i],y_pred[i]))"
   ]
  },
  {
   "cell_type": "code",
   "execution_count": null,
   "metadata": {},
   "outputs": [],
   "source": [
    "min(y_pred)"
   ]
  },
  {
   "cell_type": "markdown",
   "metadata": {},
   "source": [
    "### Community training"
   ]
  },
  {
   "cell_type": "code",
   "execution_count": null,
   "metadata": {},
   "outputs": [],
   "source": [
    "# Read\n",
    "lei_mem = []\n",
    "\n",
    "with open('../Data/partition.txt', 'r') as filehandle:\n",
    "    for line in filehandle:\n",
    "        lei_mem.append(line[:-1])\n",
    "        \n",
    "idx = list(G.nodes())\n",
    "author_to_community = {}\n",
    "for i,ii in enumerate(idx):\n",
    "    author_to_community[ii] = int(lei_mem[i])"
   ]
  },
  {
   "cell_type": "code",
   "execution_count": null,
   "metadata": {},
   "outputs": [],
   "source": [
    "community = {}\n",
    "for author in df_train['author']:\n",
    "    c = author_to_community[author]\n",
    "    if c not in community.keys():\n",
    "        community[c] = [author]\n",
    "    else:\n",
    "        community[c].append(author)"
   ]
  },
  {
   "cell_type": "code",
   "execution_count": null,
   "metadata": {},
   "outputs": [],
   "source": [
    "#train 1 model for each community\n",
    "reg_dict = {}\n",
    "scaler = {}\n",
    "for c in community.keys():\n",
    "    dfc = df_train[df_train.author.isin(community[c])]\n",
    "    X_train, y_train = featvecs_node2vec(dfc)\n",
    "    s = StandardScaler().fit(X_train[:,:-n_dim])\n",
    "    X_train[:,:-n_dim] = s.transform(X_train[:,:-n_dim])\n",
    "    scaler[c] = s\n",
    "    reg_dict[c] = Lasso(alpha = 0.1, max_iter = 1e5)\n",
    "    reg_dict[c] = reg_dict[c].fit(X_train, y_train)"
   ]
  },
  {
   "cell_type": "code",
   "execution_count": null,
   "metadata": {},
   "outputs": [],
   "source": [
    "indices = {}\n",
    "test = {}\n",
    "for i in range(len(X_test)):\n",
    "    c = author_to_community[list(df_test['author'])[i]]\n",
    "    if c not in indices.keys():\n",
    "        indices[c] = [i]\n",
    "        test[c] = [X_test[i]]\n",
    "    else:\n",
    "        indices[c].append(i)\n",
    "        test[c].append(X_test[i])"
   ]
  },
  {
   "cell_type": "code",
   "execution_count": null,
   "metadata": {},
   "outputs": [],
   "source": [
    "y = {}        \n",
    "for c in test.keys():\n",
    "    test[c] = np.array(test[c])\n",
    "    #test[c][:,:-n_dim] = scaler[c].transform(test[c][:,:-n_dim])\n",
    "    y[c] = reg_dict[c].predict(test[c])     \n",
    "for c in y.keys():\n",
    "    for i in range(len(y[c])):\n",
    "        y_pred[indices[c][i]] = y[c][i]"
   ]
  },
  {
   "cell_type": "code",
   "execution_count": null,
   "metadata": {},
   "outputs": [],
   "source": [
    "for i in range(len(y_pred)):\n",
    "    if oldX[i] < 5 and y_pred[i] > oldX[i]:\n",
    "        #print((y_pred[i],X_test[i, 7]))\n",
    "        y_pred[i] = oldX[i]\n",
    "    if y_pred[i] < 1:\n",
    "        y_pred[i] = 1"
   ]
  },
  {
   "cell_type": "code",
   "execution_count": null,
   "metadata": {},
   "outputs": [],
   "source": [
    "print(\"MSE: {:.4}\".format(mean_squared_error(y_pred, y_test)))"
   ]
  },
  {
   "cell_type": "markdown",
   "metadata": {},
   "source": [
    "### Community final submission"
   ]
  },
  {
   "cell_type": "code",
   "execution_count": null,
   "metadata": {},
   "outputs": [],
   "source": [
    "indices = {}\n",
    "test = {}\n",
    "for i in range(len(X_test)):\n",
    "    c = author_to_community[list(df2['author'])[i]]\n",
    "    if c not in indices.keys():\n",
    "        indices[c] = [i]\n",
    "        test[c] = [X_test[i]]\n",
    "    else:\n",
    "        indices[c].append(i)\n",
    "        test[c].append(X_test[i])"
   ]
  },
  {
   "cell_type": "markdown",
   "metadata": {},
   "source": [
    "scale"
   ]
  },
  {
   "cell_type": "code",
   "execution_count": null,
   "metadata": {},
   "outputs": [],
   "source": [
    "y = {}        \n",
    "for c in test.keys():\n",
    "    test[c] = np.array(test[c])\n",
    "    #test[c][:,:-n_dim] = scaler[c].transform(test[c][:,:-n_dim])\n",
    "    y[c] = reg_dict[c].predict(test[c])     \n",
    "for c in y.keys():\n",
    "    for i in range(len(y[c])):\n",
    "        y_pred[indices[c][i]] = y[c][i]"
   ]
  },
  {
   "cell_type": "code",
   "execution_count": null,
   "metadata": {},
   "outputs": [],
   "source": [
    "for i in range(len(y_pred)):\n",
    "    if oldX[i] < 5 and y_pred[i] > oldX[i]:\n",
    "        #print((y_pred[i],X_test[i, 7]))\n",
    "        y_pred[i] = oldX[i]\n",
    "    if y_pred[i] < 1:\n",
    "        y_pred[i] = 1"
   ]
  },
  {
   "cell_type": "code",
   "execution_count": 112,
   "metadata": {},
   "outputs": [],
   "source": [
    "idx = list(G.nodes())"
   ]
  },
  {
   "cell_type": "code",
   "execution_count": 126,
   "metadata": {},
   "outputs": [
    {
     "data": {
      "text/plain": [
       "246"
      ]
     },
     "execution_count": 126,
     "metadata": {},
     "output_type": "execute_result"
    }
   ],
   "source": [
    "max(community.keys())"
   ]
  },
  {
   "cell_type": "code",
   "execution_count": null,
   "metadata": {},
   "outputs": [],
   "source": [
    "with open('../Data/submission2.csv', 'w', encoding='utf-8') as f:\n",
    "    f.write('author,\"hindex\"\\n')\n",
    "    for i in range(len(y_pred)):\n",
    "        f.write('%s,\"%s\"\\n'%(list(df2['author'])[i],y_pred[i]))"
   ]
  }
 ],
 "metadata": {
  "kernelspec": {
   "display_name": "Python 3 (ipykernel)",
   "language": "python",
   "name": "python3"
  },
  "language_info": {
   "codemirror_mode": {
    "name": "ipython",
    "version": 3
   },
   "file_extension": ".py",
   "mimetype": "text/x-python",
   "name": "python",
   "nbconvert_exporter": "python",
   "pygments_lexer": "ipython3",
   "version": "3.8.3"
  }
 },
 "nbformat": 4,
 "nbformat_minor": 4
}
