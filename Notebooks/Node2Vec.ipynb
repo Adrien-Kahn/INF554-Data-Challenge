{
 "cells": [
  {
   "cell_type": "code",
   "execution_count": 73,
   "metadata": {},
   "outputs": [],
   "source": [
    "import numpy as np\n",
    "import matplotlib.pyplot as plt\n",
    "\n",
    "import networkx as nx\n",
    "from networkx.algorithms import community\n",
    "\n",
    "from sklearn.manifold import TSNE\n",
    "from sklearn.decomposition import PCA\n",
    "from sklearn.cluster import KMeans\n",
    "from sklearn.cluster import MiniBatchKMeans\n",
    "from sklearn.datasets import make_blobs\n",
    "\n",
    "from pecanpy import node2vec\n",
    "from gensim.models import Word2Vec\n",
    "from gensim.models.callbacks import CallbackAny2Vec\n",
    "\n",
    "from time import time"
   ]
  },
  {
   "cell_type": "markdown",
   "metadata": {},
   "source": [
    "https://towardsdatascience.com/run-node2vec-faster-with-less-memory-using-pecanpy-1bdf31f136de\n",
    "\n",
    "https://towardsdatascience.com/overview-of-deep-learning-on-graph-embeddings-4305c10ad4a4\n",
    "\n",
    "https://towardsdatascience.com/node2vec-explained-graphically-749e49b7eb6b\n",
    "\n",
    "https://intel.github.io/scikit-learn-intelex/"
   ]
  },
  {
   "cell_type": "code",
   "execution_count": 2,
   "metadata": {},
   "outputs": [],
   "source": [
    "# Load the graph    \n",
    "G = nx.read_edgelist('../Data/coauthorship.edgelist', delimiter=' ', nodetype=int)"
   ]
  },
  {
   "cell_type": "markdown",
   "metadata": {},
   "source": [
    "### Walk generation"
   ]
  },
  {
   "cell_type": "code",
   "execution_count": 3,
   "metadata": {},
   "outputs": [
    {
     "name": "stdout",
     "output_type": "stream",
     "text": [
      "Loaded graph\n",
      "\n",
      "100%|███████████████████████████████████████████████████████████████████| 2178010.0/2178010 [00:46<00:00, 46380.59it/s]\n",
      "Generated walks\n"
     ]
    }
   ],
   "source": [
    "# Loads graph and generate walks\n",
    "g = node2vec.SparseOTF(p=0.5, q=1, workers=4, verbose=True)\n",
    "g.read_edg('../Data/coauthorship_tab.edgelist', weighted=False, directed=False)\n",
    "print(\"Loaded graph\\n\")\n",
    "walks = g.simulate_walks(num_walks = 10, walk_length = 10, n_ckpts = 100, pb_len = 100)\n",
    "print(\"Generated walks\")"
   ]
  },
  {
   "cell_type": "markdown",
   "metadata": {},
   "source": [
    "### word2vec embedding"
   ]
  },
  {
   "cell_type": "code",
   "execution_count": 4,
   "metadata": {},
   "outputs": [],
   "source": [
    "class EpochLogger(CallbackAny2Vec):\n",
    "    '''Callback to report progress'''\n",
    "    def __init__(self):\n",
    "        self.epoch = 0\n",
    "        self.t0 = time()\n",
    "    def on_epoch_begin(self, model):\n",
    "        print(\"\\nEpoch #{} start\".format(self.epoch))\n",
    "        self.t0 = time()\n",
    "    def on_epoch_end(self, model):\n",
    "        print(\"Epoch #{} end\".format(self.epoch))\n",
    "        print(\"Duration of epoch: {:.2}\".format(time() - self.t0))\n",
    "        self.epoch += 1"
   ]
  },
  {
   "cell_type": "code",
   "execution_count": 5,
   "metadata": {},
   "outputs": [
    {
     "name": "stdout",
     "output_type": "stream",
     "text": [
      "Built model\n",
      "\n",
      "Built vocabulary\n",
      "\n",
      "Epoch #0 start\n",
      "Epoch #0 end\n",
      "Duration of epoch: 4.9e+02\n",
      "\n",
      "Epoch #1 start\n",
      "Epoch #1 end\n",
      "Duration of epoch: 4.2e+02\n",
      "\n",
      "Epoch #2 start\n",
      "Epoch #2 end\n",
      "Duration of epoch: 3.6e+02\n",
      "\n",
      "Epoch #3 start\n",
      "Epoch #3 end\n",
      "Duration of epoch: 3.5e+02\n",
      "\n",
      "Epoch #4 start\n",
      "Epoch #4 end\n",
      "Duration of epoch: 3.6e+02\n",
      "\n",
      "Trained model\n"
     ]
    }
   ],
   "source": [
    "# Builds the word2vec embedding based on the previously computed walks\n",
    "\n",
    "n_dim = 200\n",
    "epoch_logger = EpochLogger()\n",
    "\n",
    "model = Word2Vec(vector_size = n_dim, window = 8, min_count = 0, sg = 1, workers = 4, hs = 1)\n",
    "print(\"Built model\")\n",
    "model.build_vocab(walks)\n",
    "print(\"\\nBuilt vocabulary\")\n",
    "model.train(walks, total_examples=model.corpus_count, epochs=5, callbacks = [epoch_logger])\n",
    "print(\"\\nTrained model\")"
   ]
  },
  {
   "cell_type": "code",
   "execution_count": 66,
   "metadata": {},
   "outputs": [],
   "source": [
    "# Save the model for reusing later\n",
    "model.save(\"../Word2Vec_models/model1.model\")"
   ]
  },
  {
   "cell_type": "code",
   "execution_count": 6,
   "metadata": {},
   "outputs": [],
   "source": [
    "embedding = np.zeros((G.number_of_nodes(), n_dim))\n",
    "\n",
    "for idx, node in enumerate(G.nodes()):\n",
    "    embedding[idx, :] = model.wv[str(node)]"
   ]
  },
  {
   "cell_type": "markdown",
   "metadata": {},
   "source": [
    "### k-means clustering"
   ]
  },
  {
   "cell_type": "code",
   "execution_count": 67,
   "metadata": {},
   "outputs": [
    {
     "name": "stdout",
     "output_type": "stream",
     "text": [
      "2\n",
      "3\n",
      "4\n",
      "5\n",
      "6\n",
      "7\n",
      "8\n",
      "9\n",
      "10\n",
      "11\n",
      "12\n",
      "13\n",
      "14\n",
      "15\n",
      "16\n",
      "17\n",
      "18\n",
      "19\n",
      "\n"
     ]
    },
    {
     "data": {
      "image/png": "[encoded data removed]",
      "text/plain": [
       "<Figure size 432x288 with 1 Axes>"
      ]
     },
     "metadata": {
      "needs_background": "light"
     },
     "output_type": "display_data"
    }
   ],
   "source": [
    "# Choose the good number of cluster by comparing kmeans.inertia_ for different n_cluster\n",
    "\n",
    "lk = []\n",
    "l_inertia = []\n",
    "\n",
    "for k in range(2, 20):\n",
    "    print(k)\n",
    "    best_kmeans = None\n",
    "    best_inertia = np.inf\n",
    "    for _ in range(5):\n",
    "        kmeans = MiniBatchKMeans(n_clusters = 5)\n",
    "        kmeans.fit(embedding)\n",
    "        if best_inertia > kmeans.inertia_:\n",
    "            best_kmeans = kmeans\n",
    "            best_inertia = kmeans.inertia_\n",
    "    kmeans = best_kmeans\n",
    "    lk.append(k)\n",
    "    l_inertia.append(kmeans.inertia_)\n",
    "\n",
    "plt.plot(lk, l_inertia)\n",
    "plt.title(\"Inertia as a function of the number of clusters\")\n",
    "print()"
   ]
  },
  {
   "cell_type": "code",
   "execution_count": 68,
   "metadata": {},
   "outputs": [
    {
     "name": "stdout",
     "output_type": "stream",
     "text": [
      "Init 1/3 with method k-means++\n",
      "Inertia for init 1/3: 171075.73483177443\n",
      "Init 2/3 with method k-means++\n",
      "Inertia for init 2/3: 160742.61901652906\n",
      "Init 3/3 with method k-means++\n",
      "Inertia for init 3/3: 168264.78064141521\n",
      "[MiniBatchKMeans] Reassigning 2 cluster centers.\n",
      "Minibatch step 1/21269: mean batch inertia: 52.50992871305528\n",
      "Minibatch step 2/21269: mean batch inertia: 37.277097404653745, ewa inertia: 37.277097404653745\n",
      "Minibatch step 3/21269: mean batch inertia: 37.24292981169722, ewa inertia: 37.2767761255545\n",
      "[MiniBatchKMeans] Reassigning 2 cluster centers.\n",
      "Minibatch step 4/21269: mean batch inertia: 38.00089557195774, ewa inertia: 37.283585046621496\n",
      "Minibatch step 5/21269: mean batch inertia: 36.884415286387764, ewa inertia: 37.279831639081806\n",
      "Minibatch step 6/21269: mean batch inertia: 37.44993411802814, ewa inertia: 37.281431118778414\n",
      "Minibatch step 7/21269: mean batch inertia: 37.03320326129948, ewa inertia: 37.27909702335175\n",
      "Minibatch step 8/21269: mean batch inertia: 37.87323399479621, ewa inertia: 37.284683714555314\n",
      "Minibatch step 9/21269: mean batch inertia: 37.722071162579766, ewa inertia: 37.28879648438091\n",
      "Minibatch step 10/21269: mean batch inertia: 37.86493373729876, ewa inertia: 37.29421392358705\n",
      "Minibatch step 11/21269: mean batch inertia: 36.90771747291411, ewa inertia: 37.29057968363068\n",
      "Minibatch step 12/21269: mean batch inertia: 37.26034545984538, ewa inertia: 37.290295390142504\n",
      "Minibatch step 13/21269: mean batch inertia: 37.098678938899326, ewa inertia: 37.28849361379451\n",
      "Converged (lack of improvement in inertia) at step 13/21269\n",
      "8121166.041256331\n"
     ]
    }
   ],
   "source": [
    "#kmeans = KMeans(n_clusters = 5)\n",
    "\n",
    "# MiniBatchKmeans does not do multiple restarts so we do it manually\n",
    "best_kmeans = None\n",
    "best_inertia = np.inf\n",
    "for _ in range(1):\n",
    "    kmeans = MiniBatchKMeans(n_clusters = 5, verbose = True)\n",
    "    kmeans.fit(embedding)\n",
    "    print(kmeans.inertia_)\n",
    "    if best_inertia > kmeans.inertia_:\n",
    "        best_kmeans = kmeans\n",
    "        best_inertia = kmeans.inertia_\n",
    "kmeans = best_kmeans\n",
    "\n",
    "# The array indicating the cluster of each node\n",
    "clusters = kmeans.labels_"
   ]
  },
  {
   "cell_type": "code",
   "execution_count": 101,
   "metadata": {},
   "outputs": [
    {
     "name": "stdout",
     "output_type": "stream",
     "text": [
      "2\n",
      "3\n",
      "4\n",
      "5\n",
      "\n"
     ]
    },
    {
     "data": {
      "image/png": "[encoded data removed]",
      "text/plain": [
       "<Figure size 432x288 with 1 Axes>"
      ]
     },
     "metadata": {
      "needs_background": "light"
     },
     "output_type": "display_data"
    }
   ],
   "source": [
    "\n",
    "lk = []\n",
    "l_inertia = []\n",
    "\n",
    "for k in range(2, 6):\n",
    "    print(k)\n",
    "    kmeans = KMeans(n_clusters = 5)\n",
    "    kmeans.fit(embedding)\n",
    "    lk.append(k)\n",
    "    l_inertia.append(kmeans.inertia_)\n",
    "\n",
    "plt.plot(lk, l_inertia)\n",
    "plt.title(\"Inertia as a function of the number of clusters\")\n",
    "print()"
   ]
  },
  {
   "cell_type": "code",
   "execution_count": null,
   "metadata": {},
   "outputs": [],
   "source": [
    "\n",
    "lk = []\n",
    "l_inertia = []\n",
    "\n",
    "for k in range(2, 20):\n",
    "    print(k)\n",
    "    best_kmeans = None\n",
    "    best_inertia = np.inf\n",
    "    for _ in range(5):\n",
    "        kmeans = MiniBatchKMeans(n_clusters = 5)\n",
    "        kmeans.fit(embedding)\n",
    "        if best_inertia > kmeans.inertia_:\n",
    "            best_kmeans = kmeans\n",
    "            best_inertia = kmeans.inertia_\n",
    "    kmeans = best_kmeans\n",
    "    lk.append(k)\n",
    "    l_inertia.append(kmeans.inertia_)\n",
    "\n",
    "plt.plot(lk, l_inertia)\n",
    "plt.title(\"Inertia as a function of the number of clusters\")\n",
    "print()"
   ]
  },
  {
   "cell_type": "code",
   "execution_count": 71,
   "metadata": {},
   "outputs": [
    {
     "data": {
      "text/plain": [
       "8024690.141775528"
      ]
     },
     "execution_count": 71,
     "metadata": {},
     "output_type": "execute_result"
    }
   ],
   "source": [
    "kmeans.inertia_"
   ]
  },
  {
   "cell_type": "code",
   "execution_count": null,
   "metadata": {},
   "outputs": [],
   "source": []
  },
  {
   "cell_type": "code",
   "execution_count": 104,
   "metadata": {},
   "outputs": [],
   "source": [
    "X, y = make_blobs(100, 2, centers = 6)"
   ]
  },
  {
   "cell_type": "code",
   "execution_count": 105,
   "metadata": {},
   "outputs": [
    {
     "data": {
      "text/plain": [
       "<matplotlib.collections.PathCollection at 0x1e6f3cc7490>"
      ]
     },
     "execution_count": 105,
     "metadata": {},
     "output_type": "execute_result"
    },
    {
     "data": {
      "image/png": "[encoded data removed]",
      "text/plain": [
       "<Figure size 432x288 with 1 Axes>"
      ]
     },
     "metadata": {
      "needs_background": "light"
     },
     "output_type": "display_data"
    }
   ],
   "source": [
    "x1 = X[:,0]\n",
    "x2 = X[:,1]\n",
    "\n",
    "plt.scatter(x1, x2, c = y)"
   ]
  },
  {
   "cell_type": "code",
   "execution_count": 106,
   "metadata": {},
   "outputs": [
    {
     "name": "stdout",
     "output_type": "stream",
     "text": [
      "2\n",
      "3\n",
      "4\n",
      "5\n",
      "6\n",
      "7\n",
      "8\n",
      "9\n",
      "\n"
     ]
    },
    {
     "data": {
      "image/png": "[encoded data removed]",
      "text/plain": [
       "<Figure size 432x288 with 1 Axes>"
      ]
     },
     "metadata": {
      "needs_background": "light"
     },
     "output_type": "display_data"
    }
   ],
   "source": [
    "lk = []\n",
    "l_inertia = []\n",
    "\n",
    "for k in range(2, 10):\n",
    "    print(k)\n",
    "    kmeans = KMeans(n_clusters = k)\n",
    "    kmeans.fit(X)\n",
    "    lk.append(k)\n",
    "    l_inertia.append(kmeans.inertia_)\n",
    "\n",
    "plt.plot(lk, l_inertia)\n",
    "plt.title(\"Inertia as a function of the number of clusters\")\n",
    "print()"
   ]
  },
  {
   "cell_type": "markdown",
   "metadata": {},
   "source": [
    "### Evaluate the clustering\n",
    "\n",
    "To evaluate this clustering, we will use functions from 3.14.7 and compare the results against a random partition. Induced graph might be of interest."
   ]
  },
  {
   "cell_type": "code",
   "execution_count": 112,
   "metadata": {},
   "outputs": [
    {
     "data": {
      "text/plain": [
       "AtlasView({2076469802: {}, 2164966972: {}, 2434321585: {}, 2310541675: {}, 2107787884: {}, 2231641062: {}, 2639943607: {}, 2216368757: {}, 2291719633: {}, 1526249137: {}, 2421072351: {}, 2141458738: {}, 2003942722: {}, 2112810119: {}, 2147736635: {}, 2165824847: {}})"
      ]
     },
     "execution_count": 112,
     "metadata": {},
     "output_type": "execute_result"
    }
   ],
   "source": [
    "G[2218957460]"
   ]
  },
  {
   "cell_type": "code",
   "execution_count": 113,
   "metadata": {},
   "outputs": [
    {
     "data": {
      "text/plain": [
       "217801"
      ]
     },
     "execution_count": 113,
     "metadata": {},
     "output_type": "execute_result"
    }
   ],
   "source": [
    "G.number_of_nodes()"
   ]
  }
 ],
 "metadata": {
  "kernelspec": {
   "display_name": "Python 3 (ipykernel)",
   "language": "python",
   "name": "python3"
  },
  "language_info": {
   "codemirror_mode": {
    "name": "ipython",
    "version": 3
   },
   "file_extension": ".py",
   "mimetype": "text/x-python",
   "name": "python",
   "nbconvert_exporter": "python",
   "pygments_lexer": "ipython3",
   "version": "3.8.3"
  }
 },
 "nbformat": 4,
 "nbformat_minor": 4
}
