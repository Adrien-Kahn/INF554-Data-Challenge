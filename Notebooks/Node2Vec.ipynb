{
 "cells": [
  {
   "cell_type": "code",
   "execution_count": 18,
   "metadata": {},
   "outputs": [],
   "source": [
    "import numpy as np\n",
    "import matplotlib.pyplot as plt\n",
    "import networkx as nx\n",
    "\n",
    "from sklearn.manifold import TSNE\n",
    "from sklearn.decomposition import PCA\n",
    "\n",
    "from pecanpy import node2vec\n",
    "from gensim.models import Word2Vec\n",
    "from gensim.models.callbacks import CallbackAny2Vec\n",
    "from time import time"
   ]
  },
  {
   "cell_type": "markdown",
   "metadata": {},
   "source": [
    "https://towardsdatascience.com/run-node2vec-faster-with-less-memory-using-pecanpy-1bdf31f136de\n",
    "\n",
    "https://towardsdatascience.com/overview-of-deep-learning-on-graph-embeddings-4305c10ad4a4\n",
    "\n",
    "https://towardsdatascience.com/node2vec-explained-graphically-749e49b7eb6b\n",
    "\n",
    "https://intel.github.io/scikit-learn-intelex/"
   ]
  },
  {
   "cell_type": "code",
   "execution_count": 16,
   "metadata": {},
   "outputs": [],
   "source": [
    "# Load the graph    \n",
    "G = nx.read_edgelist('../Data/coauthorship.edgelist', delimiter=' ', nodetype=int)"
   ]
  },
  {
   "cell_type": "code",
   "execution_count": 3,
   "metadata": {},
   "outputs": [
    {
     "name": "stdout",
     "output_type": "stream",
     "text": [
      "Loaded graph\n",
      "100%|███████████████████████████████████████████████████████████████████| 2178010.0/2178010 [00:45<00:00, 48324.65it/s]\n",
      "Generated walks\n"
     ]
    }
   ],
   "source": [
    "# Loads graph and generate walks\n",
    "g = node2vec.SparseOTF(p=0.5, q=1, workers=4, verbose=True)\n",
    "g.read_edg('../Data/coauthorship_tab.edgelist', weighted=False, directed=False)\n",
    "print(\"Loaded graph\\n\")\n",
    "walks = g.simulate_walks(num_walks = 10, walk_length = 10, n_ckpts = 100, pb_len = 100)\n",
    "print(\"Generated walks\")"
   ]
  },
  {
   "cell_type": "code",
   "execution_count": 12,
   "metadata": {},
   "outputs": [],
   "source": [
    "class EpochLogger(CallbackAny2Vec):\n",
    "    '''Callback to report progress'''\n",
    "    def __init__(self):\n",
    "        self.epoch = 0\n",
    "        self.t0 = time()\n",
    "    def on_epoch_begin(self, model):\n",
    "        print(\"\\nEpoch #{} start\".format(self.epoch))\n",
    "        self.t0 = time()\n",
    "    def on_epoch_end(self, model):\n",
    "        print(\"Epoch #{} end\".format(self.epoch))\n",
    "        print(\"Duration of epoch: {:.2}\".format(time() - self.t0))\n",
    "        self.epoch += 1"
   ]
  },
  {
   "cell_type": "code",
   "execution_count": 13,
   "metadata": {},
   "outputs": [
    {
     "name": "stdout",
     "output_type": "stream",
     "text": [
      "Built model\n",
      "Built vocabulary\n",
      "Epoch #0 start\n",
      "Epoch #0 end\n",
      "Epoch #1 start\n",
      "Epoch #1 end\n",
      "Epoch #2 start\n",
      "Epoch #2 end\n",
      "Epoch #3 start\n",
      "Epoch #3 end\n",
      "Epoch #4 start\n",
      "Epoch #4 end\n",
      "Trained model\n"
     ]
    }
   ],
   "source": [
    "# Builds the word2vec embedding based on the previously computed walks\n",
    "\n",
    "n_dim = 100\n",
    "epoch_logger = EpochLogger()\n",
    "\n",
    "model = Word2Vec(vector_size = n_dim, window = 8, min_count = 0, sg = 1, workers = 4, hs = 1)\n",
    "print(\"Built model\")\n",
    "model.build_vocab(walks)\n",
    "print(\"Built vocabulary\")\n",
    "model.train(walks, total_examples=model.corpus_count, epochs=5, callbacks = [epoch_logger])\n",
    "print(\"Trained model\")"
   ]
  },
  {
   "cell_type": "code",
   "execution_count": 20,
   "metadata": {},
   "outputs": [],
   "source": [
    "embedding = np.zeros((G.number_of_nodes(), n_dim))\n",
    "\n",
    "for idx, node in enumerate(G.nodes()):\n",
    "    embedding[idx, :] = model.wv[str(node)]"
   ]
  }
 ],
 "metadata": {
  "kernelspec": {
   "display_name": "Python 3 (ipykernel)",
   "language": "python",
   "name": "python3"
  },
  "language_info": {
   "codemirror_mode": {
    "name": "ipython",
    "version": 3
   },
   "file_extension": ".py",
   "mimetype": "text/x-python",
   "name": "python",
   "nbconvert_exporter": "python",
   "pygments_lexer": "ipython3",
   "version": "3.8.3"
  }
 },
 "nbformat": 4,
 "nbformat_minor": 4
}
