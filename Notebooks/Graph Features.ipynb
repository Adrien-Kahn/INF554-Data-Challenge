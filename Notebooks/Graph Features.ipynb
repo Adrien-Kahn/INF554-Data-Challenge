{
 "cells": [
  {
   "cell_type": "code",
   "execution_count": 1,
   "metadata": {},
   "outputs": [],
   "source": [
    "import os\n",
    "import pandas as pd\n",
    "import numpy as np\n",
    "import networkx as nx\n",
    "import matplotlib.pyplot as plt\n",
    "import torch\n",
    "import torch.nn as nn\n",
    "\n",
    "from sklearn.linear_model import Lasso\n",
    "from sklearn.model_selection import train_test_split\n",
    "from sklearn.metrics import mean_squared_error\n",
    "from sklearn.metrics import accuracy_score"
   ]
  },
  {
   "cell_type": "code",
   "execution_count": 2,
   "metadata": {},
   "outputs": [],
   "source": [
    "# Read the h-indices\n",
    "df = pd.read_csv('../Data/train.csv', dtype={'author': np.int64, 'hindex': np.float32})\n",
    "\n",
    "# Load the graph    \n",
    "G = nx.read_edgelist('../Data/coauthorship.edgelist', delimiter=' ', nodetype=int)"
   ]
  },
  {
   "cell_type": "code",
   "execution_count": 3,
   "metadata": {},
   "outputs": [],
   "source": [
    "# Computes some graph properties\n",
    "core_num = nx.core_number(G)\n",
    "eigenvector_cen = nx.eigenvector_centrality(G)"
   ]
  },
  {
   "cell_type": "code",
   "execution_count": null,
   "metadata": {},
   "outputs": [],
   "source": [
    "betweenness_cen = nx.betweenness_centrality(G)\n",
    "closeness_cen = nx.closeness_centrality(G)\n",
    "katz_cen = nx.katz_centrality(G)\n",
    "cfc_cen = nx.current_flow_closeness_centrality(G)\n",
    "betweenness_cen = nx.betweenness_centrality(G)\n",
    "cfb_cen = nx.current_flow_betweenness_centrality(G)\n",
    "com_cen = nx.communicability_betweenness_centrality(G)\n",
    "load_cen = nx.load_centrality(G)\n",
    "subgraph_cen = nx.subgraph_centrality(G)\n",
    "harmonic_cen = nx.harmonic_centrality(G)"
   ]
  },
  {
   "cell_type": "markdown",
   "metadata": {},
   "source": [
    "Let's take a quick look at the data"
   ]
  },
  {
   "cell_type": "code",
   "execution_count": 3,
   "metadata": {},
   "outputs": [
    {
     "name": "stdout",
     "output_type": "stream",
     "text": [
      "\n"
     ]
    },
    {
     "data": {
      "image/png": "[encoded data removed]",
      "text/plain": [
       "<Figure size 432x288 with 1 Axes>"
      ]
     },
     "metadata": {
      "needs_background": "light"
     },
     "output_type": "display_data"
    }
   ],
   "source": [
    "treshold = 0\n",
    "\n",
    "# Degree distribution\n",
    "l = []\n",
    "for node in G:\n",
    "    if G.degree(node) > treshold:\n",
    "        l.append(G.degree(node))\n",
    "\n",
    "plt.hist(l)\n",
    "plt.title(\"Distribution of the degrees of $G$ with a treshold at {}\".format(treshold))\n",
    "print()"
   ]
  },
  {
   "cell_type": "code",
   "execution_count": 4,
   "metadata": {},
   "outputs": [
    {
     "name": "stdout",
     "output_type": "stream",
     "text": [
      "\n"
     ]
    },
    {
     "data": {
      "image/png": "[encoded data removed]",
      "text/plain": [
       "<Figure size 432x288 with 1 Axes>"
      ]
     },
     "metadata": {
      "needs_background": "light"
     },
     "output_type": "display_data"
    }
   ],
   "source": [
    "treshold = 0\n",
    "\n",
    "# Distribution of h-indices\n",
    "hindex = df['hindex']\n",
    "plt.hist(hindex[hindex > treshold])\n",
    "plt.title(\"Distribution of $h$-indices with a treshold at {}\".format(treshold))\n",
    "print()"
   ]
  },
  {
   "cell_type": "markdown",
   "metadata": {},
   "source": [
    "# Learning\n",
    "\n",
    "Here we attempt to predict the $h$-indices based only on properties of the graph"
   ]
  },
  {
   "cell_type": "markdown",
   "metadata": {},
   "source": [
    "We split the dataframe into a dataframe for training and a dataframe for testing"
   ]
  },
  {
   "cell_type": "code",
   "execution_count": 202,
   "metadata": {},
   "outputs": [],
   "source": [
    "# Fraction of samples in the training set\n",
    "train_frac = 0.7\n",
    "# Split the dataframe into train and test dataframes\n",
    "df_train = df.sample(frac = train_frac)\n",
    "df_test = df.drop(df_train.index)"
   ]
  },
  {
   "cell_type": "markdown",
   "metadata": {},
   "source": [
    "### Baseline\n",
    "\n",
    "We try to reproduce the score of the baseline using only the training dataset (because we do not have the answers for the testing dataset)."
   ]
  },
  {
   "cell_type": "code",
   "execution_count": 180,
   "metadata": {},
   "outputs": [],
   "source": [
    "# Builds the feature vectors and target vector from the dataframe\n",
    "# Here we reproduce the features of the baseline\n",
    "def featvecs_baseline(df):\n",
    "    n = df.shape[0]\n",
    "    X = np.zeros((n,2))\n",
    "    y = np.zeros(n)\n",
    "    for i, x in zip(range(n), df.iterrows()):\n",
    "        _, row = x\n",
    "        X[i,0] = G.degree(row['author'])\n",
    "        X[i,1] = core_num[row['author']]\n",
    "        y[i] = row['hindex']\n",
    "    return X,y"
   ]
  },
  {
   "cell_type": "code",
   "execution_count": 181,
   "metadata": {},
   "outputs": [
    {
     "name": "stdout",
     "output_type": "stream",
     "text": [
      "Training features built\n",
      "Testing features built\n",
      "\n",
      "Model fitted\n",
      "\n",
      "MSE: 128.4\n"
     ]
    }
   ],
   "source": [
    "# Fitting a lasso model like in the baseline\n",
    "\n",
    "X_train, y_train = featvecs_baseline(df_train)\n",
    "print(\"Training features built\")\n",
    "\n",
    "X_test, y_test = featvecs_baseline(df_test)\n",
    "print(\"Testing features built\\n\")\n",
    "\n",
    "reg = Lasso(alpha = 0.1)\n",
    "reg.fit(X_train, y_train)\n",
    "print(\"Model fitted\\n\")\n",
    "\n",
    "y_pred = reg.predict(X_test)\n",
    "print(\"MSE: {:.4}\".format(mean_squared_error(y_pred, y_test)))"
   ]
  },
  {
   "cell_type": "markdown",
   "metadata": {},
   "source": [
    "### Experimental Area\n",
    "\n",
    "Here is for experimenting with different kinds of graph-based features."
   ]
  },
  {
   "cell_type": "markdown",
   "metadata": {},
   "source": [
    "Let's try to add different powers of the degrees. In particular, we expect a dependance with the square root of the degree."
   ]
  },
  {
   "cell_type": "code",
   "execution_count": 296,
   "metadata": {},
   "outputs": [],
   "source": [
    "# Builds the feature vectors and target vector from the dataframe\n",
    "\n",
    "def featvecs_experimental(df, powers):\n",
    "    n = df.shape[0]\n",
    "    X = np.zeros((n,len(powers)))\n",
    "    y = np.zeros(n)\n",
    "    for i, x in enumerate(df.iterrows()):\n",
    "        _, row = x\n",
    "        deg = G.degree(row['author'])\n",
    "        cn = core_num[row['author']]\n",
    "        for j, power in enumerate(powers):\n",
    "            X[i,j] = deg ** power\n",
    "            #X[i,j + len(powers)] = cn ** power\n",
    "        y[i] = row['hindex']\n",
    "    return X,y"
   ]
  },
  {
   "cell_type": "code",
   "execution_count": 300,
   "metadata": {},
   "outputs": [
    {
     "name": "stdout",
     "output_type": "stream",
     "text": [
      "Training features built\n",
      "Testing features built\n",
      "Model fitted\n",
      "\n",
      "MSE: 112.8\n"
     ]
    }
   ],
   "source": [
    "# Fitting a lasso model like in the baseline\n",
    "\n",
    "X_train, y_train = featvecs_nn(df_train)\n",
    "print(\"Training features built\")\n",
    "\n",
    "X_test, y_test = featvecs_nn(df_test)\n",
    "print(\"Testing features built\")\n",
    "\n",
    "reg = Lasso(alpha = 0.1, max_iter = 1e5)\n",
    "reg.fit(X_train, y_train)\n",
    "print(\"Model fitted\\n\")\n",
    "\n",
    "y_pred = reg.predict(X_test)\n",
    "print(\"MSE: {:.4}\".format(mean_squared_error(y_pred, y_test)))"
   ]
  },
  {
   "cell_type": "code",
   "execution_count": 301,
   "metadata": {},
   "outputs": [
    {
     "data": {
      "text/plain": [
       "array([16.62975098])"
      ]
     },
     "execution_count": 301,
     "metadata": {},
     "output_type": "execute_result"
    }
   ],
   "source": [
    "reg.coef_"
   ]
  },
  {
   "cell_type": "markdown",
   "metadata": {},
   "source": [
    "### Fitting the basic graph features with a neural network\n",
    "\n",
    "We use different graph node features as input for a fully connected neural network."
   ]
  },
  {
   "cell_type": "code",
   "execution_count": 299,
   "metadata": {},
   "outputs": [],
   "source": [
    "# Builds the feature vectors and target vector from the dataframe\n",
    "\n",
    "n_feat = 1\n",
    "\n",
    "def featvecs_nn(df):\n",
    "    \n",
    "    n = df.shape[0]\n",
    "    X = np.zeros((n, n_feat))\n",
    "    y = np.zeros((n, 1))\n",
    "    \n",
    "    for i, x in enumerate(df.iterrows()):\n",
    "        \n",
    "        _, row = x\n",
    "        node = row['author']\n",
    "        \n",
    "        # node degree\n",
    "        X[i, 0] = G.degree(node) ** 0.2\n",
    "        #X[i, 1] = core_num[node]\n",
    "        #X[i, 2] = eigenvector_cen[node] * 1e5\n",
    "        \n",
    "        y[i] = row['hindex']\n",
    "    \n",
    "    return X,y"
   ]
  },
  {
   "cell_type": "code",
   "execution_count": 293,
   "metadata": {},
   "outputs": [
    {
     "name": "stdout",
     "output_type": "stream",
     "text": [
      "Training features built\n",
      "Testing features built\n"
     ]
    }
   ],
   "source": [
    "# Builds the feature vectors\n",
    "\n",
    "X_train, y_train = featvecs_nn(df_train)\n",
    "X_train = torch.from_numpy(X_train).float()\n",
    "y_train = torch.from_numpy(y_train).float()\n",
    "print(\"Training features built\")\n",
    "\n",
    "# Normalize X_train\n",
    "#X_train = nn.functional.normalize(X_train, dim = 0)\n",
    "\n",
    "X_test, y_test = featvecs_nn(df_test)\n",
    "X_test = torch.from_numpy(X_test).float()\n",
    "y_test = torch.from_numpy(y_test).float()\n",
    "print(\"Testing features built\")\n",
    "\n",
    "# Normalize X_test\n",
    "#X_test = nn.functional.normalize(X_test, dim = 0)"
   ]
  },
  {
   "cell_type": "code",
   "execution_count": 295,
   "metadata": {},
   "outputs": [
    {
     "data": {
      "image/png": "[encoded data removed]",
      "text/plain": [
       "<Figure size 576x432 with 1 Axes>"
      ]
     },
     "metadata": {
      "needs_background": "light"
     },
     "output_type": "display_data"
    },
    {
     "name": "stdout",
     "output_type": "stream",
     "text": [
      "123.0\n"
     ]
    }
   ],
   "source": [
    "model = nn.Sequential(nn.Linear(n_feat, 20), nn.Tanh(), nn.Linear(20, 1))\n",
    "\n",
    "loss_function = nn.MSELoss()\n",
    "other_loss = nn.MSELoss()\n",
    "optimizer = torch.optim.SGD(model.parameters(), lr = 0.01)\n",
    "\n",
    "train_losses = []\n",
    "test_losses = []\n",
    "\n",
    "for epoch in range(500):\n",
    "    \n",
    "    # Update test loss\n",
    "    output_test = model(X_test)\n",
    "    test_losses.append(other_loss(output_test, y_test).item())\n",
    "    \n",
    "    # Optimization step\n",
    "    output = model.forward(X_train)\n",
    "    loss = loss_function(output, y_train)\n",
    "    optimizer.zero_grad() #required since pytorch accumulates the gradients\n",
    "    loss.backward() #backpropagation step\n",
    "    optimizer.step() #update the parameters\n",
    "    \n",
    "    # Update train loss\n",
    "    train_losses.append(loss.item())\n",
    "    \n",
    "fig, ax = plt.subplots(figsize = (8,6))\n",
    "ax.plot(train_losses, label = 'train')\n",
    "ax.plot(test_losses, label = 'test')\n",
    "ax.set_title(\"Training Loss\")\n",
    "ax.set_xlabel(\"Iterations\")\n",
    "plt.legend()\n",
    "plt.show()\n",
    "\n",
    "print(\"{:.4}\".format(min(train_losses)))"
   ]
  }
 ],
 "metadata": {
  "kernelspec": {
   "display_name": "Python 3 (ipykernel)",
   "language": "python",
   "name": "python3"
  },
  "language_info": {
   "codemirror_mode": {
    "name": "ipython",
    "version": 3
   },
   "file_extension": ".py",
   "mimetype": "text/x-python",
   "name": "python",
   "nbconvert_exporter": "python",
   "pygments_lexer": "ipython3",
   "version": "3.9.7"
  }
 },
 "nbformat": 4,
 "nbformat_minor": 4
}
