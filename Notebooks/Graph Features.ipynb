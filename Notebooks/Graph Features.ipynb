{
 "cells": [
  {
   "cell_type": "code",
   "execution_count": 6,
   "metadata": {},
   "outputs": [],
   "source": [
    "import os\n",
    "import pandas as pd\n",
    "import numpy as np\n",
    "import networkx as nx\n",
    "import matplotlib.pyplot as plt\n",
    "import torch\n",
    "import torch.nn as nn\n",
    "import csv\n",
    "\n",
    "from gensim.models import Word2Vec\n",
    "\n",
    "from sklearn.linear_model import Lasso\n",
    "from sklearn.model_selection import train_test_split\n",
    "from sklearn.metrics import mean_squared_error\n",
    "from sklearn.preprocessing import StandardScaler\n",
    "from time import time"
   ]
  },
  {
   "cell_type": "code",
   "execution_count": 2,
   "metadata": {},
   "outputs": [],
   "source": [
    "# Read the h-indices\n",
    "df = pd.read_csv('../Data/train.csv', dtype={'author': np.int64, 'hindex': np.float32})\n",
    "\n",
    "# Load the graph\n",
    "G = nx.read_edgelist('../Data/coauthorship.edgelist', delimiter=' ', nodetype=int)"
   ]
  },
  {
   "cell_type": "code",
   "execution_count": 217,
   "metadata": {},
   "outputs": [],
   "source": [
    "subnodes = [k for i,k in enumerate(G) if i < 20000]\n",
    "subG = G.subgraph(subnodes)\n",
    "#nx.write_edgelist(subG, '../Data/50000_coauthorship_tab.edgelist', delimiter='\\t', data = False)"
   ]
  },
  {
   "cell_type": "code",
   "execution_count": 3,
   "metadata": {},
   "outputs": [
    {
     "name": "stdout",
     "output_type": "stream",
     "text": [
      "Core number done\n",
      "Average neighbor degree done\n",
      "Eigenvector centrality done\n",
      "Pagerank done\n"
     ]
    }
   ],
   "source": [
    "# Computes some graph properties\n",
    "core_num = nx.core_number(G)\n",
    "print(\"Core number done\")\n",
    "average_neighbor_deg = nx.average_neighbor_degree(G)\n",
    "print(\"Average neighbor degree done\")\n",
    "eigenvector_cen = nx.eigenvector_centrality(G)\n",
    "print(\"Eigenvector centrality done\")\n",
    "page_rank = nx.pagerank(G)\n",
    "print(\"Pagerank done\")"
   ]
  },
  {
   "cell_type": "code",
   "execution_count": 22,
   "metadata": {},
   "outputs": [],
   "source": [
    "# Loads basic text features\n",
    "\n",
    "best_word = {}\n",
    "with open('../Data/author_best.csv', encoding='utf-8') as f:\n",
    "    for row in csv.reader(f):\n",
    "        best_word[int(row[0])] = float(row[1])\n",
    "\n",
    "sci_words = {}\n",
    "with open('../Data/score.csv', encoding='utf-8') as f:\n",
    "    for row in csv.reader(f):\n",
    "        sci_words[int(row[0])] = float(row[1])\n",
    "\n",
    "nb_papers = {}\n",
    "with open('../Data/nb_articles.csv', encoding='utf-8') as f:\n",
    "    for row in csv.reader(f):\n",
    "        nb_papers[int(row[0])] = float(row[1])"
   ]
  },
  {
   "cell_type": "markdown",
   "metadata": {},
   "source": [
    "Let's take a quick look at the data"
   ]
  },
  {
   "cell_type": "code",
   "execution_count": 3,
   "metadata": {},
   "outputs": [
    {
     "name": "stdout",
     "output_type": "stream",
     "text": [
      "\n"
     ]
    },
    {
     "data": {
      "image/png": "[encoded data removed]",
      "text/plain": [
       "<Figure size 432x288 with 1 Axes>"
      ]
     },
     "metadata": {
      "needs_background": "light"
     },
     "output_type": "display_data"
    }
   ],
   "source": [
    "treshold = 0\n",
    "\n",
    "# Degree distribution\n",
    "l = []\n",
    "for node in G:\n",
    "    if G.degree(node) > treshold:\n",
    "        l.append(G.degree(node))\n",
    "\n",
    "plt.hist(l)\n",
    "plt.title(\"Distribution of the degrees of $G$ with a treshold at {}\".format(treshold))\n",
    "print()"
   ]
  },
  {
   "cell_type": "code",
   "execution_count": 12,
   "metadata": {},
   "outputs": [
    {
     "name": "stdout",
     "output_type": "stream",
     "text": [
      "\n"
     ]
    },
    {
     "data": {
      "image/png": "[encoded data removed]",
      "text/plain": [
       "<Figure size 432x288 with 1 Axes>"
      ]
     },
     "metadata": {
      "needs_background": "light"
     },
     "output_type": "display_data"
    }
   ],
   "source": [
    "treshold = 0\n",
    "\n",
    "# Distribution of h-indices\n",
    "hindex = df['hindex']\n",
    "plt.hist(hindex[hindex > treshold], bins = 40)\n",
    "plt.title(\"Distribution of $h$-indices with a treshold at {}\".format(treshold))\n",
    "print()"
   ]
  },
  {
   "cell_type": "markdown",
   "metadata": {},
   "source": [
    "# Learning\n",
    "\n",
    "Here we attempt to predict the $h$-indices based only on properties of the graph"
   ]
  },
  {
   "cell_type": "markdown",
   "metadata": {},
   "source": [
    "We split the dataframe into a dataframe for training and a dataframe for testing"
   ]
  },
  {
   "cell_type": "code",
   "execution_count": 11,
   "metadata": {},
   "outputs": [],
   "source": [
    "# Fraction of samples in the training set\n",
    "train_frac = 0.7\n",
    "# Split the dataframe into train and test dataframes\n",
    "df_train = df.sample(frac = train_frac)\n",
    "df_test = df.drop(df_train.index)"
   ]
  },
  {
   "cell_type": "markdown",
   "metadata": {},
   "source": [
    "### Baseline\n",
    "\n",
    "We try to reproduce the score of the baseline using only the training dataset (because we do not have the answers for the testing dataset)."
   ]
  },
  {
   "cell_type": "code",
   "execution_count": 98,
   "metadata": {},
   "outputs": [],
   "source": [
    "# Builds the feature vectors and target vector from the dataframe\n",
    "# Here we reproduce the features of the baseline\n",
    "def featvecs_baseline(df):\n",
    "    n = df.shape[0]\n",
    "    X = np.zeros((n,2))\n",
    "    y = np.zeros(n)\n",
    "    for i, x in zip(range(n), df.iterrows()):\n",
    "        _, row = x\n",
    "        X[i,0] = G.degree(row['author'])\n",
    "        X[i,1] = core_num[row['author']]\n",
    "        y[i] = row['hindex']\n",
    "    return X,y"
   ]
  },
  {
   "cell_type": "code",
   "execution_count": 99,
   "metadata": {},
   "outputs": [
    {
     "name": "stdout",
     "output_type": "stream",
     "text": [
      "Training features built\n",
      "Testing features built\n",
      "\n",
      "Model fitted\n",
      "\n",
      "MSE: 128.6\n"
     ]
    }
   ],
   "source": [
    "# Fitting a lasso model like in the baseline\n",
    "\n",
    "X_train, y_train = featvecs_baseline(df_train)\n",
    "print(\"Training features built\")\n",
    "\n",
    "X_test, y_test = featvecs_baseline(df_test)\n",
    "print(\"Testing features built\\n\")\n",
    "\n",
    "reg = Lasso(alpha = 0.1)\n",
    "reg.fit(X_train, y_train)\n",
    "print(\"Model fitted\\n\")\n",
    "\n",
    "y_pred = reg.predict(X_test)\n",
    "print(\"MSE: {:.4}\".format(mean_squared_error(y_pred, y_test)))"
   ]
  },
  {
   "cell_type": "markdown",
   "metadata": {},
   "source": [
    "### Experimental Area\n",
    "\n",
    "Here is for experimenting with different kinds of graph-based features."
   ]
  },
  {
   "cell_type": "markdown",
   "metadata": {},
   "source": [
    "Let's try to add different powers of the degrees. In particular, we expect a dependance with the square root of the degree."
   ]
  },
  {
   "cell_type": "code",
   "execution_count": 100,
   "metadata": {},
   "outputs": [],
   "source": [
    "# Builds the feature vectors and target vector from the dataframe\n",
    "\n",
    "def featvecs_experimental(df, powers):\n",
    "    n = df.shape[0]\n",
    "    X = np.zeros((n,len(powers)))\n",
    "    y = np.zeros(n)\n",
    "    for i, x in enumerate(df.iterrows()):\n",
    "        _, row = x\n",
    "        deg = G.degree(row['author'])\n",
    "        cn = core_num[row['author']]\n",
    "        for j, power in enumerate(powers):\n",
    "            X[i,j] = deg ** power\n",
    "            #X[i,j + len(powers)] = cn ** power\n",
    "        y[i] = row['hindex']\n",
    "    return X,y"
   ]
  },
  {
   "cell_type": "code",
   "execution_count": 101,
   "metadata": {},
   "outputs": [
    {
     "name": "stdout",
     "output_type": "stream",
     "text": [
      "Training features built\n",
      "Testing features built\n",
      "Model fitted\n",
      "\n",
      "MSE: 112.5\n"
     ]
    }
   ],
   "source": [
    "# Fitting a lasso model like in the baseline\n",
    "\n",
    "X_train, y_train = featvecs_nn(df_train)\n",
    "print(\"Training features built\")\n",
    "\n",
    "X_test, y_test = featvecs_nn(df_test)\n",
    "print(\"Testing features built\")\n",
    "\n",
    "reg = Lasso(alpha = 0.1, max_iter = 1e5)\n",
    "reg.fit(X_train, y_train)\n",
    "print(\"Model fitted\\n\")\n",
    "\n",
    "y_pred = reg.predict(X_test)\n",
    "print(\"MSE: {:.4}\".format(mean_squared_error(y_pred, y_test)))"
   ]
  },
  {
   "cell_type": "markdown",
   "metadata": {},
   "source": [
    "# Fitting the basic graph features with a lasso\n",
    "\n",
    "We use different graph node features as input for a lasso."
   ]
  },
  {
   "cell_type": "code",
   "execution_count": 238,
   "metadata": {},
   "outputs": [],
   "source": [
    "# Builds the feature vectors and target vector from the dataframe\n",
    "\n",
    "n_feat = 5\n",
    "\n",
    "def featvecs(df):\n",
    "    \n",
    "    n = df.shape[0]\n",
    "    X = np.zeros((n, n_feat))\n",
    "    y = np.zeros((n, 1))\n",
    "    \n",
    "    for i, x in enumerate(df.iterrows()):\n",
    "        \n",
    "        _, row = x\n",
    "        node = row['author']\n",
    "        \n",
    "        X[i, 0] = G.degree(node) ** 0.2\n",
    "        X[i, 1] = core_num[node]\n",
    "        X[i, 2] = average_neighbor_deg[node]\n",
    "        X[i, 3] = eigenvector_cen[node]\n",
    "        X[i, 4] = page_rank[node]\n",
    "        \n",
    "        y[i] = row['hindex']\n",
    "    \n",
    "    return X,y"
   ]
  },
  {
   "cell_type": "code",
   "execution_count": 239,
   "metadata": {},
   "outputs": [
    {
     "name": "stdout",
     "output_type": "stream",
     "text": [
      "Training features built\n",
      "Testing features built\n",
      "Model fitted\n",
      "\n",
      "MSE: 114.2\n"
     ]
    }
   ],
   "source": [
    "# Fitting a lasso model\n",
    "\n",
    "X_train, y_train = featvecs(df_train)\n",
    "print(\"Training features built\")\n",
    "\n",
    "X_test, y_test = featvecs(df_test)\n",
    "print(\"Testing features built\")\n",
    "\n",
    "reg = Lasso(alpha = 0.1, max_iter = 1e5)\n",
    "reg.fit(X_train, y_train)\n",
    "print(\"Model fitted\\n\")\n",
    "\n",
    "y_pred = reg.predict(X_test)\n",
    "print(\"MSE: {:.4}\".format(mean_squared_error(y_pred, y_test)))"
   ]
  },
  {
   "cell_type": "markdown",
   "metadata": {},
   "source": [
    "##### Feature normalization\n",
    "\n",
    "One big problem here is that the features are on very different orders of magnitude. Normalizing the features does not significantly improve the performance of the model, but help compare features the lasso coefficients."
   ]
  },
  {
   "cell_type": "code",
   "execution_count": 241,
   "metadata": {},
   "outputs": [],
   "source": [
    "# Normalizing features (assumes that X_train is much larger than X_test)\n",
    "scaler = StandardScaler().fit(X_train)\n",
    "X_train = scaler.transform(X_train)\n",
    "X_test = scaler.transform(X_test)"
   ]
  },
  {
   "cell_type": "code",
   "execution_count": 242,
   "metadata": {},
   "outputs": [
    {
     "name": "stdout",
     "output_type": "stream",
     "text": [
      "Model fitted\n",
      "\n",
      "MSE: 111.2\n"
     ]
    }
   ],
   "source": [
    "# Training the lasso model\n",
    "reg = Lasso(alpha = 0.1, max_iter = 1e5)\n",
    "reg.fit(X_train, y_train)\n",
    "print(\"Model fitted\\n\")\n",
    "\n",
    "# Evaluating the model\n",
    "y_pred = reg.predict(X_test)\n",
    "print(\"MSE: {:.4}\".format(mean_squared_error(y_pred, y_test)))"
   ]
  },
  {
   "cell_type": "markdown",
   "metadata": {},
   "source": [
    "##### Taking into account the distribution of $h$-indices\n",
    "\n",
    "If we take a look at the distribution of the $h$-indices in the predicted vector, we see that it is very far from the distribution in the target vector of both the train and test data. In fact, there is a significant share of the samples of the training data that have an $h$-index smaller than the smallest predicted h-index."
   ]
  },
  {
   "cell_type": "code",
   "execution_count": 244,
   "metadata": {},
   "outputs": [
    {
     "name": "stdout",
     "output_type": "stream",
     "text": [
      "Smallest predicted h-index: 3.0\n",
      "Percentage of h-indices in the training set below the smallest predicted value: 34.72%\n"
     ]
    }
   ],
   "source": [
    "print(\"Smallest predicted h-index: {:.3}\".format(min(y_pred)))\n",
    "print(\"Percentage of h-indices in the training set below the smallest predicted value: {:.2%}\".format(len(y_train[y_train < min(y_pred)]) / len(y_train)))"
   ]
  },
  {
   "cell_type": "code",
   "execution_count": 245,
   "metadata": {},
   "outputs": [
    {
     "name": "stdout",
     "output_type": "stream",
     "text": [
      "\n"
     ]
    },
    {
     "data": {
      "image/png": "[encoded data removed]",
      "text/plain": [
       "<Figure size 1440x360 with 3 Axes>"
      ]
     },
     "metadata": {
      "needs_background": "light"
     },
     "output_type": "display_data"
    }
   ],
   "source": [
    "fig, ax = plt.subplots(nrows=1, ncols=3, figsize=(20,5))\n",
    "\n",
    "ax[0].hist(y_pred, bins = 30)\n",
    "ax[0].set_title(\"Distribution of the predicted $h$-indices\")\n",
    "ax[1].hist(y_train, bins = 30)\n",
    "ax[1].set_title(\"Distribution of the train $h$-indices\")\n",
    "ax[2].hist(y_test, bins = 30)\n",
    "ax[2].set_title(\"Distribution of the test $h$-indices\")\n",
    "print()"
   ]
  },
  {
   "cell_type": "markdown",
   "metadata": {},
   "source": [
    "What we can do to fix that is create the mapping that takes the distribution of the prediction on the training set onto the distribution of the traget of the training set, and apply it to the prediction on the testing set."
   ]
  },
  {
   "cell_type": "code",
   "execution_count": 246,
   "metadata": {},
   "outputs": [],
   "source": [
    "a = np.array([2,9,8,7,1])\n",
    "idxl = np.argsort(a)\n",
    "\n",
    "# get the list of indices in the sorted list\n",
    "# This list is such that idx[i] is the index of a[i] in the sorted list\n",
    "idx = np.zeros(5)\n",
    "for i,ii in enumerate(idxl):\n",
    "    idx[ii] = i"
   ]
  },
  {
   "cell_type": "code",
   "execution_count": 247,
   "metadata": {},
   "outputs": [
    {
     "name": "stdout",
     "output_type": "stream",
     "text": [
      "Model fitted\n",
      "\n",
      "MSE on train: 108.7\n",
      "MSE on train: 315.9\n"
     ]
    }
   ],
   "source": [
    "# Training the lasso model\n",
    "reg = Lasso(alpha = 0.1, max_iter = 1e5)\n",
    "reg.fit(X_train, y_train)\n",
    "print(\"Model fitted\\n\")\n",
    "\n",
    "train_pred = reg.predict(X_train)\n",
    "\n",
    "idxx = np.argsort(train_pred)\n",
    "# This list is such that idx[i] is the index of a[i] in the sorted list\n",
    "idx = np.zeros(len(idxx), dtype = int)\n",
    "for i,ii in enumerate(idxx):\n",
    "    idx[ii] = int(i)\n",
    "\n",
    "sorted_y_train = np.sort(y_train)\n",
    "\n",
    "train_pred_2 = sorted_y_train[idx]\n",
    "\n",
    "# Evaluating the model on the train set\n",
    "print(\"MSE on train: {:.4}\".format(mean_squared_error(train_pred, y_train)))\n",
    "print(\"MSE on train: {:.4}\".format(mean_squared_error(train_pred_2, y_train)))"
   ]
  },
  {
   "cell_type": "code",
   "execution_count": 248,
   "metadata": {},
   "outputs": [
    {
     "data": {
      "text/plain": [
       "array([ 36040,  63031, 108887], dtype=int64)"
      ]
     },
     "execution_count": 248,
     "metadata": {},
     "output_type": "execute_result"
    }
   ],
   "source": [
    "np.intersect1d(np.where(train_pred > 50)[0], np.where(y_train > 100)[0])"
   ]
  },
  {
   "cell_type": "markdown",
   "metadata": {},
   "source": [
    "### Graph features for a neural network"
   ]
  },
  {
   "cell_type": "code",
   "execution_count": 26,
   "metadata": {},
   "outputs": [
    {
     "name": "stdout",
     "output_type": "stream",
     "text": [
      "Training features built\n",
      "Testing features built\n"
     ]
    }
   ],
   "source": [
    "# Builds the feature vectors\n",
    "\n",
    "X_train, y_train = featvecs_node2vec(df_train)\n",
    "X_train = torch.from_numpy(X_train).float()\n",
    "y_train = torch.from_numpy(y_train).float()\n",
    "print(\"Training features built\")\n",
    "\n",
    "# Normalize X_train\n",
    "#X_train = nn.functional.normalize(X_train, dim = 0)\n",
    "\n",
    "X_test, y_test = featvecs_node2vec(df_test)\n",
    "X_test = torch.from_numpy(X_test).float()\n",
    "y_test = torch.from_numpy(y_test).float()\n",
    "print(\"Testing features built\")\n",
    "\n",
    "# Normalize X_test\n",
    "#X_test = nn.functional.normalize(X_test, dim = 0)"
   ]
  },
  {
   "cell_type": "code",
   "execution_count": 28,
   "metadata": {},
   "outputs": [
    {
     "data": {
      "image/png": "[encoded data removed]",
      "text/plain": [
       "<Figure size 576x432 with 1 Axes>"
      ]
     },
     "metadata": {
      "needs_background": "light"
     },
     "output_type": "display_data"
    },
    {
     "name": "stdout",
     "output_type": "stream",
     "text": [
      "127.8\n"
     ]
    }
   ],
   "source": [
    "model = nn.Sequential(nn.Linear(n_feat, 40), nn.Tanh(), nn.Linear(40, 1))\n",
    "\n",
    "loss_function = nn.MSELoss()\n",
    "other_loss = nn.MSELoss()\n",
    "optimizer = torch.optim.SGD(model.parameters(), lr = 0.001)\n",
    "\n",
    "train_losses = []\n",
    "test_losses = []\n",
    "\n",
    "for epoch in range(500):\n",
    "    \n",
    "    # Update test loss\n",
    "    output_test = model(X_test)\n",
    "    test_losses.append(other_loss(output_test, y_test).item())\n",
    "    \n",
    "    # Optimization step\n",
    "    output = model.forward(X_train)\n",
    "    loss = loss_function(output, y_train)\n",
    "    optimizer.zero_grad() #required since pytorch accumulates the gradients\n",
    "    loss.backward() #backpropagation step\n",
    "    optimizer.step() #update the parameters\n",
    "    \n",
    "    # Update train loss\n",
    "    train_losses.append(loss.item())\n",
    "    \n",
    "fig, ax = plt.subplots(figsize = (8,6))\n",
    "ax.plot(train_losses, label = 'train')\n",
    "ax.plot(test_losses, label = 'test')\n",
    "ax.set_title(\"Training Loss\")\n",
    "ax.set_xlabel(\"Iterations\")\n",
    "plt.legend()\n",
    "plt.show()\n",
    "\n",
    "print(\"{:.4}\".format(min(train_losses)))"
   ]
  },
  {
   "cell_type": "markdown",
   "metadata": {},
   "source": [
    "# Using the node2vec embedding as grap features\n",
    "\n",
    "Here we try to use the node2vec embedding of nodes as a node feature for a lasso model."
   ]
  },
  {
   "cell_type": "code",
   "execution_count": 12,
   "metadata": {},
   "outputs": [],
   "source": [
    "model = Word2Vec.load(\"../Word2Vec_models/model1.model\")\n",
    "n_dim = len(model.wv[str(2336566022)])\n",
    "embedding = np.zeros((G.number_of_nodes(), n_dim))\n",
    "for idx, node in enumerate(G.nodes()):\n",
    "    embedding[idx, :] = model.wv[str(node)]"
   ]
  },
  {
   "cell_type": "code",
   "execution_count": 23,
   "metadata": {},
   "outputs": [],
   "source": [
    "# Builds the feature vectors and target vector from the dataframe\n",
    "\n",
    "other_feat = 8\n",
    "n_feat = n_dim + other_feat\n",
    "\n",
    "def featvecs_node2vec(df):\n",
    "    \n",
    "    n = df.shape[0]\n",
    "    X = np.zeros((n, n_feat))\n",
    "    y = np.zeros((n, 1))\n",
    "    \n",
    "    idx = list(G.nodes())\n",
    "    rev_idx = {idx[i]: i for i in range(len(idx))}\n",
    "    \n",
    "    for i, x in enumerate(df.iterrows()):\n",
    "        \n",
    "        _, row = x\n",
    "        node = row['author']\n",
    "        \n",
    "        # Standard node features\n",
    "        X[i, 0] = G.degree(node) ** 0.2\n",
    "        X[i, 1] = core_num[node]\n",
    "        X[i, 2] = average_neighbor_deg[node]\n",
    "        X[i, 3] = eigenvector_cen[node]\n",
    "        X[i, 4] = page_rank[node]\n",
    "        X[i, 5] = best_word[node]\n",
    "        X[i, 6] = sci_words[node]\n",
    "        X[i, 7] = nb_papers[node]\n",
    "        \n",
    "        # Node2Vec features\n",
    "        X[i, other_feat:] = embedding[rev_idx[node], :]\n",
    "        \n",
    "        y[i] = row['hindex']\n",
    "    \n",
    "    return X,y"
   ]
  },
  {
   "cell_type": "code",
   "execution_count": 24,
   "metadata": {},
   "outputs": [
    {
     "name": "stdout",
     "output_type": "stream",
     "text": [
      "Training features built\n",
      "Testing features built\n",
      "Model fitted\n",
      "\n",
      "MSE: 97.35\n"
     ]
    }
   ],
   "source": [
    "# Building train features\n",
    "X_train, y_train = featvecs_node2vec(df_train)\n",
    "print(\"Training features built\")\n",
    "\n",
    "# Building test features\n",
    "X_test, y_test = featvecs_node2vec(df_test)\n",
    "print(\"Testing features built\")\n",
    "\n",
    "# We do not normalize the node2vec embedding\n",
    "scaler = StandardScaler().fit(X_train[:,:-n_dim])\n",
    "X_train[:,:-n_dim] = scaler.transform(X_train[:,:-n_dim])\n",
    "X_test[:,:-n_dim] = scaler.transform(X_test[:,:-n_dim])\n",
    "\n",
    "# The lasso model\n",
    "reg = Lasso(alpha = 0.1, max_iter = 1e5)\n",
    "reg.fit(X_train, y_train)\n",
    "print(\"Model fitted\\n\")\n",
    "\n",
    "# Evaluating the model\n",
    "y_pred = reg.predict(X_test)\n",
    "print(\"MSE: {:.4}\".format(mean_squared_error(y_pred, y_test)))"
   ]
  },
  {
   "cell_type": "markdown",
   "metadata": {},
   "source": [
    "### Hard limit"
   ]
  },
  {
   "cell_type": "code",
   "execution_count": 25,
   "metadata": {},
   "outputs": [
    {
     "data": {
      "text/plain": [
       "array([ 2.62857379e+00,  4.18398826e-01,  8.65586203e-01,  0.00000000e+00,\n",
       "        2.91866777e+00,  2.57370394e+00, -1.76176913e-03,  1.91278106e+00,\n",
       "        4.48871243e-02,  0.00000000e+00, -0.00000000e+00,  0.00000000e+00,\n",
       "        0.00000000e+00, -0.00000000e+00,  0.00000000e+00,  2.55213083e-01,\n",
       "        0.00000000e+00,  9.91707274e-02, -0.00000000e+00,  0.00000000e+00,\n",
       "        0.00000000e+00,  7.64488167e-02,  0.00000000e+00, -0.00000000e+00,\n",
       "        0.00000000e+00,  0.00000000e+00, -0.00000000e+00, -0.00000000e+00,\n",
       "       -0.00000000e+00, -0.00000000e+00,  9.59502929e-02, -0.00000000e+00,\n",
       "        0.00000000e+00,  0.00000000e+00,  0.00000000e+00, -3.74912695e-01,\n",
       "        6.17557410e-02, -0.00000000e+00,  0.00000000e+00, -1.19751242e-01,\n",
       "        0.00000000e+00, -0.00000000e+00, -0.00000000e+00,  0.00000000e+00,\n",
       "       -0.00000000e+00, -0.00000000e+00,  0.00000000e+00, -0.00000000e+00,\n",
       "        0.00000000e+00, -0.00000000e+00, -2.66330793e-01, -2.09791782e-01,\n",
       "       -0.00000000e+00,  0.00000000e+00,  0.00000000e+00, -0.00000000e+00,\n",
       "       -0.00000000e+00,  1.15454999e-01,  1.17891538e-01, -0.00000000e+00,\n",
       "        0.00000000e+00, -0.00000000e+00, -0.00000000e+00, -0.00000000e+00,\n",
       "        0.00000000e+00,  0.00000000e+00,  0.00000000e+00,  0.00000000e+00,\n",
       "       -0.00000000e+00,  0.00000000e+00,  0.00000000e+00,  0.00000000e+00,\n",
       "        0.00000000e+00,  0.00000000e+00, -0.00000000e+00,  0.00000000e+00,\n",
       "       -0.00000000e+00,  0.00000000e+00,  0.00000000e+00, -0.00000000e+00,\n",
       "       -0.00000000e+00,  0.00000000e+00, -0.00000000e+00,  0.00000000e+00,\n",
       "        0.00000000e+00, -0.00000000e+00, -0.00000000e+00,  0.00000000e+00,\n",
       "        0.00000000e+00,  0.00000000e+00,  0.00000000e+00, -1.56234218e-01,\n",
       "        0.00000000e+00, -9.26957401e-02,  0.00000000e+00,  2.80492521e-01,\n",
       "        0.00000000e+00, -0.00000000e+00,  0.00000000e+00,  0.00000000e+00,\n",
       "       -0.00000000e+00, -0.00000000e+00,  0.00000000e+00,  0.00000000e+00,\n",
       "       -0.00000000e+00, -3.11594826e-01, -0.00000000e+00,  0.00000000e+00,\n",
       "        0.00000000e+00, -0.00000000e+00, -0.00000000e+00,  0.00000000e+00,\n",
       "        0.00000000e+00, -0.00000000e+00, -0.00000000e+00,  0.00000000e+00,\n",
       "        0.00000000e+00,  0.00000000e+00,  0.00000000e+00, -0.00000000e+00,\n",
       "       -0.00000000e+00, -0.00000000e+00, -0.00000000e+00, -0.00000000e+00,\n",
       "        0.00000000e+00, -0.00000000e+00,  0.00000000e+00,  0.00000000e+00,\n",
       "        0.00000000e+00,  0.00000000e+00,  0.00000000e+00, -0.00000000e+00,\n",
       "       -0.00000000e+00, -0.00000000e+00, -0.00000000e+00, -0.00000000e+00,\n",
       "        0.00000000e+00,  0.00000000e+00, -1.31885053e-01,  0.00000000e+00,\n",
       "       -0.00000000e+00,  0.00000000e+00,  1.36609947e-01, -0.00000000e+00,\n",
       "       -0.00000000e+00,  0.00000000e+00, -0.00000000e+00,  0.00000000e+00,\n",
       "        0.00000000e+00,  1.43819095e-01,  0.00000000e+00,  0.00000000e+00,\n",
       "        0.00000000e+00, -0.00000000e+00,  0.00000000e+00, -0.00000000e+00,\n",
       "       -0.00000000e+00,  0.00000000e+00,  0.00000000e+00, -0.00000000e+00,\n",
       "        0.00000000e+00, -4.96804142e-02,  0.00000000e+00,  0.00000000e+00,\n",
       "        6.18089731e-02, -0.00000000e+00, -0.00000000e+00, -0.00000000e+00,\n",
       "        0.00000000e+00, -0.00000000e+00, -0.00000000e+00,  0.00000000e+00,\n",
       "        0.00000000e+00, -0.00000000e+00,  0.00000000e+00,  0.00000000e+00,\n",
       "       -0.00000000e+00, -2.40753399e-01, -0.00000000e+00,  0.00000000e+00,\n",
       "       -0.00000000e+00,  0.00000000e+00, -1.57489678e-01,  4.07859811e-01,\n",
       "        0.00000000e+00, -0.00000000e+00, -0.00000000e+00, -8.01994535e-02,\n",
       "        0.00000000e+00, -0.00000000e+00, -0.00000000e+00,  1.35670464e-01,\n",
       "        0.00000000e+00, -0.00000000e+00,  0.00000000e+00, -0.00000000e+00,\n",
       "       -0.00000000e+00, -0.00000000e+00, -0.00000000e+00,  0.00000000e+00,\n",
       "       -0.00000000e+00,  0.00000000e+00, -0.00000000e+00,  0.00000000e+00,\n",
       "        0.00000000e+00,  4.06360959e-01,  0.00000000e+00,  0.00000000e+00])"
      ]
     },
     "execution_count": 25,
     "metadata": {},
     "output_type": "execute_result"
    }
   ],
   "source": [
    "reg.coef_"
   ]
  }
 ],
 "metadata": {
  "kernelspec": {
   "display_name": "Python 3 (ipykernel)",
   "language": "python",
   "name": "python3"
  },
  "language_info": {
   "codemirror_mode": {
    "name": "ipython",
    "version": 3
   },
   "file_extension": ".py",
   "mimetype": "text/x-python",
   "name": "python",
   "nbconvert_exporter": "python",
   "pygments_lexer": "ipython3",
   "version": "3.8.3"
  }
 },
 "nbformat": 4,
 "nbformat_minor": 4
}
